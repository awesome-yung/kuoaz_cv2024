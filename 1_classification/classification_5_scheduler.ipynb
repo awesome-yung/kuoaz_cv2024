{
  "cells": [
    {
      "cell_type": "code",
      "execution_count": 20,
      "metadata": {
        "id": "G4QL8ghY6wLI"
      },
      "outputs": [],
      "source": [
        "import torch\n",
        "import random\n",
        "import pandas as pd\n",
        "import numpy as np\n",
        "import os\n",
        "\n",
        "# 시드값 고정\n",
        "seed = 50\n",
        "os.environ['PYTHONHASHSEED'] = str(seed)\n",
        "random.seed(seed)\n",
        "np.random.seed(seed)\n",
        "torch.manual_seed(seed)\n",
        "torch.cuda.manual_seed(seed)\n",
        "torch.cuda.manual_seed_all(seed)\n",
        "torch.backends.cudnn.deterministic = True\n",
        "torch.backends.cudnn.benchmark = False\n",
        "torch.backends.cudnn.enabled = False\n",
        "\n",
        "import torch\n",
        "import torch.nn as nn\n",
        "import torch.nn.functional as F\n",
        "import torch.optim as optim\n",
        "from torch.cuda.amp import GradScaler\n",
        "from torch.optim.lr_scheduler import ReduceLROnPlateau\n",
        "from torch.utils.data import Dataset, DataLoader\n",
        "from torchvision import models\n",
        "import albumentations as A\n",
        "from albumentations.pytorch import ToTensorV2\n",
        "from tqdm.auto import tqdm\n",
        "from sklearn.metrics import f1_score\n",
        "from sklearn.model_selection import StratifiedKFold\n",
        "import timm\n",
        "import matplotlib.pyplot as plt"
      ]
    },
    {
      "cell_type": "code",
      "execution_count": 21,
      "metadata": {
        "colab": {
          "base_uri": "https://localhost:8080/"
        },
        "id": "zltjOtJz6-6L",
        "outputId": "0a7a4571-b0c2-403e-87ed-fe9914cc847b"
      },
      "outputs": [
        {
          "data": {
            "text/plain": [
              "device(type='cuda')"
            ]
          },
          "execution_count": 21,
          "metadata": {},
          "output_type": "execute_result"
        }
      ],
      "source": [
        "device = torch.device('cuda' if torch.cuda.is_available() else 'cpu')\n",
        "device"
      ]
    },
    {
      "cell_type": "code",
      "execution_count": 22,
      "metadata": {
        "id": "nD_4fbvu7Hhg"
      },
      "outputs": [],
      "source": [
        "raw_data = pd.read_csv(\"./dataset/sign_mnist_train.csv\")\n",
        "test_data = pd.read_csv(\"./dataset/sign_mnist_test.csv\")\n",
        "# raw_data = pd.read_csv(\"./drive/MyDrive/Colab Notebooks/classification/data/sign_mnist_train.csv\")"
      ]
    },
    {
      "cell_type": "code",
      "execution_count": 23,
      "metadata": {},
      "outputs": [
        {
          "data": {
            "text/html": [
              "<div>\n",
              "<style scoped>\n",
              "    .dataframe tbody tr th:only-of-type {\n",
              "        vertical-align: middle;\n",
              "    }\n",
              "\n",
              "    .dataframe tbody tr th {\n",
              "        vertical-align: top;\n",
              "    }\n",
              "\n",
              "    .dataframe thead th {\n",
              "        text-align: right;\n",
              "    }\n",
              "</style>\n",
              "<table border=\"1\" class=\"dataframe\">\n",
              "  <thead>\n",
              "    <tr style=\"text-align: right;\">\n",
              "      <th></th>\n",
              "      <th>label</th>\n",
              "      <th>pixel1</th>\n",
              "      <th>pixel2</th>\n",
              "      <th>pixel3</th>\n",
              "      <th>pixel4</th>\n",
              "      <th>pixel5</th>\n",
              "      <th>pixel6</th>\n",
              "      <th>pixel7</th>\n",
              "      <th>pixel8</th>\n",
              "      <th>pixel9</th>\n",
              "      <th>...</th>\n",
              "      <th>pixel775</th>\n",
              "      <th>pixel776</th>\n",
              "      <th>pixel777</th>\n",
              "      <th>pixel778</th>\n",
              "      <th>pixel779</th>\n",
              "      <th>pixel780</th>\n",
              "      <th>pixel781</th>\n",
              "      <th>pixel782</th>\n",
              "      <th>pixel783</th>\n",
              "      <th>pixel784</th>\n",
              "    </tr>\n",
              "  </thead>\n",
              "  <tbody>\n",
              "    <tr>\n",
              "      <th>0</th>\n",
              "      <td>3</td>\n",
              "      <td>107</td>\n",
              "      <td>118</td>\n",
              "      <td>127</td>\n",
              "      <td>134</td>\n",
              "      <td>139</td>\n",
              "      <td>143</td>\n",
              "      <td>146</td>\n",
              "      <td>150</td>\n",
              "      <td>153</td>\n",
              "      <td>...</td>\n",
              "      <td>207</td>\n",
              "      <td>207</td>\n",
              "      <td>207</td>\n",
              "      <td>207</td>\n",
              "      <td>206</td>\n",
              "      <td>206</td>\n",
              "      <td>206</td>\n",
              "      <td>204</td>\n",
              "      <td>203</td>\n",
              "      <td>202</td>\n",
              "    </tr>\n",
              "    <tr>\n",
              "      <th>1</th>\n",
              "      <td>6</td>\n",
              "      <td>155</td>\n",
              "      <td>157</td>\n",
              "      <td>156</td>\n",
              "      <td>156</td>\n",
              "      <td>156</td>\n",
              "      <td>157</td>\n",
              "      <td>156</td>\n",
              "      <td>158</td>\n",
              "      <td>158</td>\n",
              "      <td>...</td>\n",
              "      <td>69</td>\n",
              "      <td>149</td>\n",
              "      <td>128</td>\n",
              "      <td>87</td>\n",
              "      <td>94</td>\n",
              "      <td>163</td>\n",
              "      <td>175</td>\n",
              "      <td>103</td>\n",
              "      <td>135</td>\n",
              "      <td>149</td>\n",
              "    </tr>\n",
              "    <tr>\n",
              "      <th>2</th>\n",
              "      <td>2</td>\n",
              "      <td>187</td>\n",
              "      <td>188</td>\n",
              "      <td>188</td>\n",
              "      <td>187</td>\n",
              "      <td>187</td>\n",
              "      <td>186</td>\n",
              "      <td>187</td>\n",
              "      <td>188</td>\n",
              "      <td>187</td>\n",
              "      <td>...</td>\n",
              "      <td>202</td>\n",
              "      <td>201</td>\n",
              "      <td>200</td>\n",
              "      <td>199</td>\n",
              "      <td>198</td>\n",
              "      <td>199</td>\n",
              "      <td>198</td>\n",
              "      <td>195</td>\n",
              "      <td>194</td>\n",
              "      <td>195</td>\n",
              "    </tr>\n",
              "    <tr>\n",
              "      <th>3</th>\n",
              "      <td>2</td>\n",
              "      <td>211</td>\n",
              "      <td>211</td>\n",
              "      <td>212</td>\n",
              "      <td>212</td>\n",
              "      <td>211</td>\n",
              "      <td>210</td>\n",
              "      <td>211</td>\n",
              "      <td>210</td>\n",
              "      <td>210</td>\n",
              "      <td>...</td>\n",
              "      <td>235</td>\n",
              "      <td>234</td>\n",
              "      <td>233</td>\n",
              "      <td>231</td>\n",
              "      <td>230</td>\n",
              "      <td>226</td>\n",
              "      <td>225</td>\n",
              "      <td>222</td>\n",
              "      <td>229</td>\n",
              "      <td>163</td>\n",
              "    </tr>\n",
              "    <tr>\n",
              "      <th>4</th>\n",
              "      <td>13</td>\n",
              "      <td>164</td>\n",
              "      <td>167</td>\n",
              "      <td>170</td>\n",
              "      <td>172</td>\n",
              "      <td>176</td>\n",
              "      <td>179</td>\n",
              "      <td>180</td>\n",
              "      <td>184</td>\n",
              "      <td>185</td>\n",
              "      <td>...</td>\n",
              "      <td>92</td>\n",
              "      <td>105</td>\n",
              "      <td>105</td>\n",
              "      <td>108</td>\n",
              "      <td>133</td>\n",
              "      <td>163</td>\n",
              "      <td>157</td>\n",
              "      <td>163</td>\n",
              "      <td>164</td>\n",
              "      <td>179</td>\n",
              "    </tr>\n",
              "  </tbody>\n",
              "</table>\n",
              "<p>5 rows × 785 columns</p>\n",
              "</div>"
            ],
            "text/plain": [
              "   label  pixel1  pixel2  pixel3  pixel4  pixel5  pixel6  pixel7  pixel8  \\\n",
              "0      3     107     118     127     134     139     143     146     150   \n",
              "1      6     155     157     156     156     156     157     156     158   \n",
              "2      2     187     188     188     187     187     186     187     188   \n",
              "3      2     211     211     212     212     211     210     211     210   \n",
              "4     13     164     167     170     172     176     179     180     184   \n",
              "\n",
              "   pixel9  ...  pixel775  pixel776  pixel777  pixel778  pixel779  pixel780  \\\n",
              "0     153  ...       207       207       207       207       206       206   \n",
              "1     158  ...        69       149       128        87        94       163   \n",
              "2     187  ...       202       201       200       199       198       199   \n",
              "3     210  ...       235       234       233       231       230       226   \n",
              "4     185  ...        92       105       105       108       133       163   \n",
              "\n",
              "   pixel781  pixel782  pixel783  pixel784  \n",
              "0       206       204       203       202  \n",
              "1       175       103       135       149  \n",
              "2       198       195       194       195  \n",
              "3       225       222       229       163  \n",
              "4       157       163       164       179  \n",
              "\n",
              "[5 rows x 785 columns]"
            ]
          },
          "execution_count": 23,
          "metadata": {},
          "output_type": "execute_result"
        }
      ],
      "source": [
        "raw_data.head()"
      ]
    },
    {
      "cell_type": "code",
      "execution_count": 24,
      "metadata": {
        "colab": {
          "base_uri": "https://localhost:8080/"
        },
        "id": "2fBAZ60U7JoH",
        "outputId": "515612e1-02b0-476a-9423-4c9249d3935e"
      },
      "outputs": [],
      "source": [
        "raw_data = raw_data[:2000]\n",
        "\n",
        "kfold = StratifiedKFold(n_splits=5, shuffle=True, random_state=50)  # 원하는 폴드 수로 설정\n",
        "\n",
        "labels = raw_data.iloc[:, 0]\n",
        "features = raw_data\n",
        "\n",
        "val_data = pd.DataFrame()\n",
        "train_data = pd.DataFrame()\n",
        "\n",
        "for i, (_, label_index) in enumerate( kfold.split(features, labels)):\n",
        "    pic_fold_data = features.iloc[label_index]\n",
        "\n",
        "    if not i:\n",
        "        val_data = pic_fold_data.reset_index(drop=True)\n",
        "        \n",
        "    else:\n",
        "        train_data = pd.concat([train_data, pic_fold_data], ignore_index=True)"
      ]
    },
    {
      "cell_type": "code",
      "execution_count": 25,
      "metadata": {
        "id": "GpmQAZAd7m21"
      },
      "outputs": [],
      "source": [
        "transforms_for_train = A.Compose([\n",
        "                A.Rotate(10),\n",
        "                A.HorizontalFlip(p=0.5),\n",
        "                A.RandomBrightnessContrast()\n",
        "                ])\n",
        "\n",
        "transforms_for_test = A.Compose([\n",
        "                ])"
      ]
    },
    {
      "cell_type": "code",
      "execution_count": 26,
      "metadata": {},
      "outputs": [],
      "source": [
        "class Sign(Dataset):\n",
        "    def __init__(self, data = None, is_train = False, transforms=None):\n",
        "        self.label_data = data['label']\n",
        "        self.pic_data = data.drop(labels = [\"label\"],axis = 1)\n",
        "        self.pic_data = self.pic_data.values.reshape(-1,1, 28,28)\n",
        "        self.pic_data = self.pic_data/255\n",
        "        self.pic_data = torch.from_numpy(self.pic_data).float()\n",
        "        self.pic_data = self.pic_data.expand(-1,3,-1,-1)\n",
        "        self.is_train = is_train\n",
        "        self.transforms = transforms\n",
        "\n",
        "    def __len__(self):\n",
        "        return len(self.label_data)\n",
        "\n",
        "    def __getitem__(self, item):\n",
        "        \n",
        "        labels = self.label_data[item]\n",
        "        images = self.pic_data[item]\n",
        "        images = images.numpy()\n",
        "\n",
        "        if self.is_train:\n",
        "            images = self.transforms(image = images)['image']\n",
        "        images = torch.from_numpy(images)\n",
        "\n",
        "        return images, labels"
      ]
    },
    {
      "cell_type": "code",
      "execution_count": 27,
      "metadata": {
        "id": "M3mM-60p7rei"
      },
      "outputs": [],
      "source": [
        "train_dataset = Sign(data=train_data, is_train=True, transforms=transforms_for_train)\n",
        "val_dataset = Sign(data=val_data, is_train=False)\n",
        "test_dataset = Sign(data=test_data, is_train=False)"
      ]
    },
    {
      "cell_type": "code",
      "execution_count": 28,
      "metadata": {
        "colab": {
          "base_uri": "https://localhost:8080/"
        },
        "id": "XKhqPg-x7u-c",
        "outputId": "3bc26ec6-3d95-411d-eafe-be1d29bc277c"
      },
      "outputs": [],
      "source": [
        "train_loader = DataLoader(\n",
        "    dataset=train_dataset,\n",
        "    batch_size=80,\n",
        "    shuffle=True,\n",
        "    num_workers=0,  # 로컬에서 작동한다면 4, 8 로 바꿔서 멀티프로세싱해도 됩니다\n",
        "    drop_last=True,\n",
        ")\n",
        "\n",
        "val_loader = DataLoader(\n",
        "    dataset=val_dataset,\n",
        "    batch_size=80,\n",
        "    shuffle=True,\n",
        "    num_workers=0,\n",
        "    drop_last=True,\n",
        ")\n",
        "\n",
        "test_loader = DataLoader(\n",
        "    dataset=test_dataset,\n",
        "    batch_size=80,\n",
        "    shuffle=True,\n",
        "    num_workers=0,\n",
        "    drop_last=True,\n",
        ")"
      ]
    },
    {
      "cell_type": "code",
      "execution_count": 46,
      "metadata": {
        "id": "CbvyLJxq7x9v"
      },
      "outputs": [],
      "source": [
        "NUM_EPOCHS = 100\n",
        "VAL_EVERY = 10\n",
        "SAVE_DIR = './Save/'"
      ]
    },
    {
      "cell_type": "code",
      "execution_count": 47,
      "metadata": {},
      "outputs": [],
      "source": [
        "def plot_graph(loss_stack, acc_stack, lr_stack):\n",
        "    plt.figure(figsize=(15, 5))\n",
        "\n",
        "    plt.subplot(1, 3, 1)\n",
        "    epochs = range(1, len(loss_stack) + 1)\n",
        "    plt.plot(epochs, loss_stack, 'b')\n",
        "    plt.xlabel('Epochs')\n",
        "    plt.ylabel('Loss')\n",
        "    plt.title('Training Loss')\n",
        "\n",
        "    plt.subplot(1, 3, 2)\n",
        "    epochs_acc = range(1, len(acc_stack)*VAL_EVERY + 1, VAL_EVERY)\n",
        "    plt.plot(epochs_acc, acc_stack, 'r')\n",
        "    plt.xlabel('Epochs')\n",
        "    plt.ylabel('Accuracy')\n",
        "    plt.title('Validation Accuracy')\n",
        "\n",
        "    plt.subplot(1, 3, 3)\n",
        "    epochs_lr = range(1, len(lr_stack) + 1)\n",
        "    plt.plot(epochs_lr, lr_stack, 'g')\n",
        "    plt.xlabel('Epochs')\n",
        "    plt.ylabel('Learning Rate')\n",
        "    plt.title('Learning Rate')\n",
        "\n",
        "    plt.tight_layout()\n",
        "    plt.show()"
      ]
    },
    {
      "cell_type": "code",
      "execution_count": 48,
      "metadata": {
        "id": "bDic-7__7z9z"
      },
      "outputs": [],
      "source": [
        "def save_model(model, file_name='best_model_schduler.pt'):\n",
        "    output_path = os.path.join(SAVE_DIR, file_name)\n",
        "    if not os.path.exists(SAVE_DIR):\n",
        "        os.makedirs(SAVE_DIR)\n",
        "    torch.save(model, output_path)\n",
        "\n",
        "def validation(epoch, model, data_loader, criterion):\n",
        "    print(f'Start validation #{epoch:2d}')\n",
        "    with torch.no_grad():\n",
        "        all_preds = []\n",
        "        all_labels = []\n",
        "        for step, (images, labels) in tqdm(enumerate(data_loader), total=len(data_loader)):\n",
        "            images, labels = images.cuda(), labels.cuda()\n",
        "            model = model.cuda()\n",
        "\n",
        "            outputs = model(images)\n",
        "            preds = torch.argmax(outputs, dim=1)\n",
        "            all_preds.extend(preds.cpu().numpy())\n",
        "            all_labels.extend(labels.cpu().numpy())\n",
        "        f1 = f1_score(all_labels, all_preds, average='micro')\n",
        "        print(f'F1 Score: {f1}')\n",
        "    return f1\n",
        "\n",
        "def train(model, data_loader, criterion, optimizer):\n",
        "    acc_stack = []\n",
        "    loss_stack = []\n",
        "    lr_stack = []\n",
        "    print(f'Start training..')\n",
        "    best_acc = 0\n",
        "    scaler = GradScaler()\n",
        "    for epoch in range(NUM_EPOCHS):\n",
        "        \n",
        "        model.train()\n",
        "        total_loss = 0\n",
        "        total_steps = len(data_loader)\n",
        "        \n",
        "        for step, (images, labels) in enumerate(tqdm(data_loader)):\n",
        "            images, labels = images.cuda(), labels.cuda()\n",
        "            model = model.cuda()\n",
        "\n",
        "            outputs = model(images)\n",
        "\n",
        "            # loss를 계산합니다.\n",
        "            loss = criterion(outputs, labels)\n",
        "            optimizer.zero_grad()\n",
        "            \n",
        "            scaler.scale(loss).backward()\n",
        "            scaler.step(optimizer)\n",
        "            scaler.update()\n",
        "            total_loss += loss.item()\n",
        "\n",
        "            # step 주기에 따라 loss를 출력.\n",
        "            if (step + 1) % 400 == 0:\n",
        "                print(\n",
        "                    f'Epoch [{epoch+1}/{NUM_EPOCHS}], '\n",
        "                    f'Step [{step+1}/{len(train_loader)}], '\n",
        "                    f'Loss: {round(loss.item(),4)}'\n",
        "                )\n",
        "        avg_loss = total_loss / total_steps\n",
        "\n",
        "        loss_stack.append(avg_loss)\n",
        "        lr_stack.append(scheduler.optimizer.param_groups[0][\"lr\"])\n",
        "                        \n",
        "        scheduler.step(avg_loss)\n",
        "        if (epoch + 1) % VAL_EVERY == 0:\n",
        "            acc = validation(epoch + 1, model, val_loader, criterion)\n",
        "            acc_stack.append(acc)\n",
        "            if best_acc < acc:\n",
        "                print(f\"Best performance at epoch: {epoch + 1}, {best_acc:.4f} -> {acc:.4f}\")\n",
        "                #Print('lr :', f'lr: {scheduler.optimizer.param_groups[0][\"lr\"]}')\n",
        "                best_acc = acc\n",
        "                save_model(model)\n",
        "    plot_graph(loss_stack, acc_stack, lr_stack)"
      ]
    },
    {
      "cell_type": "code",
      "execution_count": 49,
      "metadata": {
        "colab": {
          "base_uri": "https://localhost:8080/",
          "height": 655,
          "referenced_widgets": [
            "259057fc0a534c1eb42b295ffc0553e9",
            "f2b35d7532c746f5bf9ce07bced06341",
            "f16757c2cc1049b6b3e7119a095ae1d0",
            "242f70ebfdd7459481861df24a737b90",
            "a39da4cafb2548be8989d6972ed1d2dc",
            "3249071e17e94c04a2c3f16c9043f64b",
            "0fb9a219221643dbb8423f275a18da72",
            "d3f1083c82ef4bfb99c97270b52f8af0",
            "3674eafdb98740939b72b0e635a034ff",
            "955f3cdbc3da42069a6c07d251e523cd",
            "efeff6c575bf4ef79646a0a26b26c947"
          ]
        },
        "id": "Lw-DTNY576w3",
        "outputId": "aa5ffbe2-4969-4259-c73e-12bb81ec74db"
      },
      "outputs": [
        {
          "name": "stdout",
          "output_type": "stream",
          "text": [
            "Start training..\n"
          ]
        },
        {
          "name": "stderr",
          "output_type": "stream",
          "text": [
            "100%|██████████| 20/20 [00:03<00:00,  5.05it/s]\n",
            "100%|██████████| 20/20 [00:03<00:00,  5.35it/s]\n",
            "100%|██████████| 20/20 [00:03<00:00,  5.37it/s]\n",
            "100%|██████████| 20/20 [00:03<00:00,  5.33it/s]\n",
            "100%|██████████| 20/20 [00:03<00:00,  5.34it/s]\n",
            "100%|██████████| 20/20 [00:03<00:00,  5.40it/s]\n",
            "100%|██████████| 20/20 [00:03<00:00,  5.28it/s]\n",
            "100%|██████████| 20/20 [00:03<00:00,  5.29it/s]\n",
            "100%|██████████| 20/20 [00:03<00:00,  5.34it/s]\n",
            "100%|██████████| 20/20 [00:03<00:00,  5.45it/s]\n"
          ]
        },
        {
          "name": "stdout",
          "output_type": "stream",
          "text": [
            "Start validation #10\n"
          ]
        },
        {
          "name": "stderr",
          "output_type": "stream",
          "text": [
            "100%|██████████| 5/5 [00:00<00:00, 16.45it/s]\n"
          ]
        },
        {
          "name": "stdout",
          "output_type": "stream",
          "text": [
            "F1 Score: 0.84\n",
            "Best performance at epoch: 10, 0.0000 -> 0.8400\n"
          ]
        },
        {
          "name": "stderr",
          "output_type": "stream",
          "text": [
            "100%|██████████| 20/20 [00:03<00:00,  5.41it/s]\n",
            "100%|██████████| 20/20 [00:03<00:00,  5.36it/s]\n",
            "100%|██████████| 20/20 [00:03<00:00,  5.34it/s]\n",
            "100%|██████████| 20/20 [00:03<00:00,  5.36it/s]\n",
            "100%|██████████| 20/20 [00:03<00:00,  5.45it/s]\n",
            "100%|██████████| 20/20 [00:03<00:00,  5.18it/s]\n",
            "100%|██████████| 20/20 [00:03<00:00,  5.44it/s]\n",
            "100%|██████████| 20/20 [00:03<00:00,  5.41it/s]\n",
            "100%|██████████| 20/20 [00:03<00:00,  5.43it/s]\n",
            "100%|██████████| 20/20 [00:03<00:00,  5.43it/s]\n"
          ]
        },
        {
          "name": "stdout",
          "output_type": "stream",
          "text": [
            "Start validation #20\n"
          ]
        },
        {
          "name": "stderr",
          "output_type": "stream",
          "text": [
            "100%|██████████| 5/5 [00:00<00:00, 16.44it/s]\n"
          ]
        },
        {
          "name": "stdout",
          "output_type": "stream",
          "text": [
            "F1 Score: 0.945\n",
            "Best performance at epoch: 20, 0.8400 -> 0.9450\n"
          ]
        },
        {
          "name": "stderr",
          "output_type": "stream",
          "text": [
            "100%|██████████| 20/20 [00:03<00:00,  5.36it/s]\n",
            "100%|██████████| 20/20 [00:03<00:00,  5.42it/s]\n",
            "100%|██████████| 20/20 [00:03<00:00,  5.45it/s]\n",
            "100%|██████████| 20/20 [00:03<00:00,  5.46it/s]\n",
            "100%|██████████| 20/20 [00:03<00:00,  5.16it/s]\n",
            "100%|██████████| 20/20 [00:03<00:00,  5.43it/s]\n",
            "100%|██████████| 20/20 [00:03<00:00,  5.39it/s]\n",
            "100%|██████████| 20/20 [00:03<00:00,  5.54it/s]\n",
            "100%|██████████| 20/20 [00:03<00:00,  5.56it/s]\n",
            "100%|██████████| 20/20 [00:03<00:00,  5.53it/s]\n"
          ]
        },
        {
          "name": "stdout",
          "output_type": "stream",
          "text": [
            "Start validation #30\n"
          ]
        },
        {
          "name": "stderr",
          "output_type": "stream",
          "text": [
            "100%|██████████| 5/5 [00:00<00:00, 17.08it/s]\n"
          ]
        },
        {
          "name": "stdout",
          "output_type": "stream",
          "text": [
            "F1 Score: 0.95\n",
            "Best performance at epoch: 30, 0.9450 -> 0.9500\n"
          ]
        },
        {
          "name": "stderr",
          "output_type": "stream",
          "text": [
            "100%|██████████| 20/20 [00:03<00:00,  5.56it/s]\n"
          ]
        },
        {
          "name": "stdout",
          "output_type": "stream",
          "text": [
            "Epoch 00031: reducing learning rate of group 0 to 1.0000e-04.\n"
          ]
        },
        {
          "name": "stderr",
          "output_type": "stream",
          "text": [
            "100%|██████████| 20/20 [00:03<00:00,  5.56it/s]\n",
            "100%|██████████| 20/20 [00:04<00:00,  4.30it/s]\n",
            "100%|██████████| 20/20 [00:03<00:00,  5.33it/s]\n",
            "100%|██████████| 20/20 [00:03<00:00,  5.49it/s]\n",
            "100%|██████████| 20/20 [00:03<00:00,  5.53it/s]\n",
            "100%|██████████| 20/20 [00:03<00:00,  5.55it/s]\n",
            "100%|██████████| 20/20 [00:03<00:00,  5.54it/s]\n",
            "100%|██████████| 20/20 [00:03<00:00,  5.55it/s]\n",
            "100%|██████████| 20/20 [00:03<00:00,  5.56it/s]\n"
          ]
        },
        {
          "name": "stdout",
          "output_type": "stream",
          "text": [
            "Start validation #40\n"
          ]
        },
        {
          "name": "stderr",
          "output_type": "stream",
          "text": [
            "100%|██████████| 5/5 [00:00<00:00, 16.82it/s]\n"
          ]
        },
        {
          "name": "stdout",
          "output_type": "stream",
          "text": [
            "F1 Score: 0.9625\n",
            "Best performance at epoch: 40, 0.9500 -> 0.9625\n"
          ]
        },
        {
          "name": "stderr",
          "output_type": "stream",
          "text": [
            "100%|██████████| 20/20 [00:03<00:00,  5.55it/s]\n",
            "100%|██████████| 20/20 [00:03<00:00,  5.53it/s]\n",
            "100%|██████████| 20/20 [00:03<00:00,  5.32it/s]\n",
            "100%|██████████| 20/20 [00:03<00:00,  5.57it/s]\n",
            "100%|██████████| 20/20 [00:03<00:00,  5.55it/s]\n",
            "100%|██████████| 20/20 [00:03<00:00,  5.56it/s]\n",
            "100%|██████████| 20/20 [00:03<00:00,  5.51it/s]\n",
            "100%|██████████| 20/20 [00:03<00:00,  5.54it/s]\n",
            "100%|██████████| 20/20 [00:03<00:00,  5.47it/s]\n",
            "100%|██████████| 20/20 [00:03<00:00,  5.44it/s]\n"
          ]
        },
        {
          "name": "stdout",
          "output_type": "stream",
          "text": [
            "Start validation #50\n"
          ]
        },
        {
          "name": "stderr",
          "output_type": "stream",
          "text": [
            "100%|██████████| 5/5 [00:00<00:00, 16.28it/s]\n"
          ]
        },
        {
          "name": "stdout",
          "output_type": "stream",
          "text": [
            "F1 Score: 0.9675\n",
            "Best performance at epoch: 50, 0.9625 -> 0.9675\n"
          ]
        },
        {
          "name": "stderr",
          "output_type": "stream",
          "text": [
            "100%|██████████| 20/20 [00:03<00:00,  5.41it/s]\n",
            "100%|██████████| 20/20 [00:03<00:00,  5.23it/s]\n",
            "100%|██████████| 20/20 [00:03<00:00,  5.55it/s]\n",
            "100%|██████████| 20/20 [00:03<00:00,  5.57it/s]\n",
            "100%|██████████| 20/20 [00:03<00:00,  5.56it/s]\n",
            "100%|██████████| 20/20 [00:03<00:00,  5.54it/s]\n",
            "100%|██████████| 20/20 [00:03<00:00,  5.51it/s]\n",
            "100%|██████████| 20/20 [00:03<00:00,  5.47it/s]\n",
            "100%|██████████| 20/20 [00:03<00:00,  5.57it/s]\n",
            "100%|██████████| 20/20 [00:03<00:00,  5.53it/s]\n"
          ]
        },
        {
          "name": "stdout",
          "output_type": "stream",
          "text": [
            "Start validation #60\n"
          ]
        },
        {
          "name": "stderr",
          "output_type": "stream",
          "text": [
            "100%|██████████| 5/5 [00:00<00:00, 16.91it/s]\n"
          ]
        },
        {
          "name": "stdout",
          "output_type": "stream",
          "text": [
            "F1 Score: 0.96\n"
          ]
        },
        {
          "name": "stderr",
          "output_type": "stream",
          "text": [
            "100%|██████████| 20/20 [00:03<00:00,  5.33it/s]\n",
            "100%|██████████| 20/20 [00:03<00:00,  5.52it/s]\n",
            "100%|██████████| 20/20 [00:03<00:00,  5.50it/s]\n",
            "100%|██████████| 20/20 [00:03<00:00,  5.55it/s]\n",
            "100%|██████████| 20/20 [00:03<00:00,  5.56it/s]\n"
          ]
        },
        {
          "name": "stdout",
          "output_type": "stream",
          "text": [
            "Epoch 00065: reducing learning rate of group 0 to 1.0000e-05.\n"
          ]
        },
        {
          "name": "stderr",
          "output_type": "stream",
          "text": [
            "100%|██████████| 20/20 [00:03<00:00,  5.56it/s]\n",
            "100%|██████████| 20/20 [00:03<00:00,  5.55it/s]\n",
            "100%|██████████| 20/20 [00:03<00:00,  5.56it/s]\n",
            "100%|██████████| 20/20 [00:03<00:00,  5.56it/s]\n",
            "100%|██████████| 20/20 [00:03<00:00,  5.21it/s]\n"
          ]
        },
        {
          "name": "stdout",
          "output_type": "stream",
          "text": [
            "Start validation #70\n"
          ]
        },
        {
          "name": "stderr",
          "output_type": "stream",
          "text": [
            "100%|██████████| 5/5 [00:00<00:00, 16.84it/s]\n"
          ]
        },
        {
          "name": "stdout",
          "output_type": "stream",
          "text": [
            "F1 Score: 0.98\n",
            "Best performance at epoch: 70, 0.9675 -> 0.9800\n"
          ]
        },
        {
          "name": "stderr",
          "output_type": "stream",
          "text": [
            "100%|██████████| 20/20 [00:03<00:00,  5.56it/s]\n",
            "100%|██████████| 20/20 [00:03<00:00,  5.55it/s]\n",
            "100%|██████████| 20/20 [00:03<00:00,  5.54it/s]\n",
            "100%|██████████| 20/20 [00:03<00:00,  5.56it/s]\n",
            "100%|██████████| 20/20 [00:03<00:00,  5.56it/s]\n"
          ]
        },
        {
          "name": "stdout",
          "output_type": "stream",
          "text": [
            "Epoch 00075: reducing learning rate of group 0 to 1.0000e-06.\n"
          ]
        },
        {
          "name": "stderr",
          "output_type": "stream",
          "text": [
            "100%|██████████| 20/20 [00:03<00:00,  5.56it/s]\n",
            "100%|██████████| 20/20 [00:03<00:00,  5.56it/s]\n",
            "100%|██████████| 20/20 [00:03<00:00,  5.56it/s]\n",
            "100%|██████████| 20/20 [00:03<00:00,  5.39it/s]\n",
            "100%|██████████| 20/20 [00:03<00:00,  5.57it/s]\n"
          ]
        },
        {
          "name": "stdout",
          "output_type": "stream",
          "text": [
            "Start validation #80\n"
          ]
        },
        {
          "name": "stderr",
          "output_type": "stream",
          "text": [
            "100%|██████████| 5/5 [00:00<00:00, 16.90it/s]\n"
          ]
        },
        {
          "name": "stdout",
          "output_type": "stream",
          "text": [
            "F1 Score: 0.9625\n"
          ]
        },
        {
          "name": "stderr",
          "output_type": "stream",
          "text": [
            "100%|██████████| 20/20 [00:03<00:00,  5.56it/s]\n"
          ]
        },
        {
          "name": "stdout",
          "output_type": "stream",
          "text": [
            "Epoch 00081: reducing learning rate of group 0 to 1.0000e-07.\n"
          ]
        },
        {
          "name": "stderr",
          "output_type": "stream",
          "text": [
            "100%|██████████| 20/20 [00:03<00:00,  5.56it/s]\n",
            "100%|██████████| 20/20 [00:03<00:00,  5.51it/s]\n",
            "100%|██████████| 20/20 [00:03<00:00,  5.56it/s]\n",
            "100%|██████████| 20/20 [00:03<00:00,  5.57it/s]\n",
            "100%|██████████| 20/20 [00:03<00:00,  5.56it/s]\n",
            "100%|██████████| 20/20 [00:03<00:00,  5.56it/s]\n"
          ]
        },
        {
          "name": "stdout",
          "output_type": "stream",
          "text": [
            "Epoch 00087: reducing learning rate of group 0 to 1.0000e-08.\n"
          ]
        },
        {
          "name": "stderr",
          "output_type": "stream",
          "text": [
            "100%|██████████| 20/20 [00:03<00:00,  5.40it/s]\n",
            "100%|██████████| 20/20 [00:03<00:00,  5.57it/s]\n",
            "100%|██████████| 20/20 [00:03<00:00,  5.55it/s]\n"
          ]
        },
        {
          "name": "stdout",
          "output_type": "stream",
          "text": [
            "Start validation #90\n"
          ]
        },
        {
          "name": "stderr",
          "output_type": "stream",
          "text": [
            "100%|██████████| 5/5 [00:00<00:00, 16.56it/s]\n"
          ]
        },
        {
          "name": "stdout",
          "output_type": "stream",
          "text": [
            "F1 Score: 0.9575\n"
          ]
        },
        {
          "name": "stderr",
          "output_type": "stream",
          "text": [
            "100%|██████████| 20/20 [00:03<00:00,  5.56it/s]\n",
            "100%|██████████| 20/20 [00:03<00:00,  5.57it/s]\n",
            "100%|██████████| 20/20 [00:03<00:00,  5.56it/s]\n",
            "100%|██████████| 20/20 [00:03<00:00,  5.56it/s]\n",
            "100%|██████████| 20/20 [00:03<00:00,  5.54it/s]\n",
            "100%|██████████| 20/20 [00:03<00:00,  5.46it/s]\n",
            "100%|██████████| 20/20 [00:03<00:00,  5.37it/s]\n",
            "100%|██████████| 20/20 [00:03<00:00,  5.55it/s]\n",
            "100%|██████████| 20/20 [00:03<00:00,  5.56it/s]\n",
            "100%|██████████| 20/20 [00:03<00:00,  5.56it/s]\n"
          ]
        },
        {
          "name": "stdout",
          "output_type": "stream",
          "text": [
            "Start validation #100\n"
          ]
        },
        {
          "name": "stderr",
          "output_type": "stream",
          "text": [
            "100%|██████████| 5/5 [00:00<00:00, 16.73it/s]\n"
          ]
        },
        {
          "name": "stdout",
          "output_type": "stream",
          "text": [
            "F1 Score: 0.9675\n"
          ]
        },
        {
          "data": {
            "image/png": "[encoded data removed]",
            "text/plain": [
              "<Figure size 1500x500 with 3 Axes>"
            ]
          },
          "metadata": {},
          "output_type": "display_data"
        }
      ],
      "source": [
        "model = timm.create_model('resnet50', pretrained=True, num_classes=26)\n",
        "\n",
        "criterion = nn.CrossEntropyLoss()\n",
        "\n",
        "LR = 1e-3\n",
        "optimizer = optim.AdamW(params=model.parameters(), lr=LR)\n",
        "scheduler = ReduceLROnPlateau(optimizer, mode='min', factor=0.1, patience=5, verbose=True)\n",
        "\n",
        "train(model, train_loader, criterion, optimizer)"
      ]
    },
    {
      "cell_type": "code",
      "execution_count": 50,
      "metadata": {},
      "outputs": [],
      "source": [
        "def test(model, test_loader, criterion):\n",
        "    model_path = './Save/best_model_schduler.pt'\n",
        "    model = torch.load(model_path)\n",
        "    model.cuda()\n",
        "\n",
        "    print(f'Start inference')\n",
        "    model.eval()\n",
        "\n",
        "    all_preds = []\n",
        "    all_labels =[]\n",
        "\n",
        "    with torch.no_grad():\n",
        "        for images, labels in tqdm(test_loader):\n",
        "            images, labels = images.cuda(), labels.cuda()\n",
        "            outputs = model(images)\n",
        "            preds = torch.argmax(outputs, dim=1)\n",
        "            all_preds.extend(preds.cpu().numpy())\n",
        "            all_labels.extend(labels.cpu().numpy())\n",
        "        count = sum(1 for pred, label in zip(preds, labels) if pred==label)\n",
        "\n",
        "    acc = count/len(preds)\n",
        "    f1 = f1_score(all_preds, all_labels, average='micro')\n",
        "    return acc, f1, all_preds, all_labels\n"
      ]
    },
    {
      "cell_type": "code",
      "execution_count": 51,
      "metadata": {},
      "outputs": [
        {
          "name": "stdout",
          "output_type": "stream",
          "text": [
            "Start inference\n"
          ]
        },
        {
          "name": "stderr",
          "output_type": "stream",
          "text": [
            "100%|██████████| 89/89 [00:05<00:00, 16.11it/s]"
          ]
        },
        {
          "name": "stdout",
          "output_type": "stream",
          "text": [
            "acc : 0.9375\n",
            "f1 : 0.9635\n"
          ]
        },
        {
          "name": "stderr",
          "output_type": "stream",
          "text": [
            "\n"
          ]
        }
      ],
      "source": [
        "criterion = nn.CrossEntropyLoss()\n",
        "acc, f1, pred, gt = test(model, test_loader, criterion)\n",
        "\n",
        "print(f'acc : {acc:.4f}')\n",
        "print(f'f1 : {f1:.4f}')"
      ]
    },
    {
      "cell_type": "code",
      "execution_count": 60,
      "metadata": {},
      "outputs": [
        {
          "data": {
            "image/png": "[encoded data removed]",
            "text/plain": [
              "<Figure size 1200x1000 with 2 Axes>"
            ]
          },
          "metadata": {},
          "output_type": "display_data"
        },
        {
          "ename": "",
          "evalue": "",
          "output_type": "error",
          "traceback": [
            "\u001b[1;31mThe Kernel crashed while executing code in the current cell or a previous cell. \n",
            "\u001b[1;31mPlease review the code in the cell(s) to identify a possible cause of the failure. \n",
            "\u001b[1;31mClick <a href='https://aka.ms/vscodeJupyterKernelCrash'>here</a> for more info. \n",
            "\u001b[1;31mView Jupyter <a href='command:jupyter.viewOutput'>log</a> for further details."
          ]
        }
      ],
      "source": [
        "from sklearn.metrics import confusion_matrix\n",
        "import seaborn as sns\n",
        "import string\n",
        "\n",
        "alphabet = string.ascii_lowercase\n",
        "classes = list(range(24))\n",
        "\n",
        "def plot_confusion_matrix(y_true, y_pred, classes):\n",
        "    cm = confusion_matrix(y_true, y_pred)\n",
        "    # cm = cm.astype('float') / cm.sum(axis=1)[:, np.newaxis]  # 정규화\n",
        "\n",
        "    plt.figure(figsize=(12, 10))\n",
        "    sns.heatmap(cm, annot=True, fmt=\".0f\", cmap=\"Blues\", xticklabels=classes, yticklabels=classes)\n",
        "    # sns.heatmap(cm, annot=True, fmt=\".1f\", cmap=\"Blues\", xticklabels=classes, yticklabels=classes)\n",
        "    plt.xlabel('Predicted Label')\n",
        "    plt.ylabel('True Label')\n",
        "    plt.title('Confusion Matrix')\n",
        "    plt.show()\n",
        "\n",
        "plot_confusion_matrix(gt, pred, classes)"
      ]
    },
    {
      "cell_type": "code",
      "execution_count": null,
      "metadata": {},
      "outputs": [],
      "source": []
    }
  ],
  "metadata": {
    "accelerator": "GPU",
    "colab": {
      "gpuType": "T4",
      "provenance": []
    },
    "kernelspec": {
      "display_name": "Python 3",
      "name": "python3"
    },
    "language_info": {
      "codemirror_mode": {
        "name": "ipython",
        "version": 3
      },
      "file_extension": ".py",
      "mimetype": "text/x-python",
      "name": "python",
      "nbconvert_exporter": "python",
      "pygments_lexer": "ipython3",
      "version": "3.11.8"
    },
    "widgets": {
      "application/vnd.jupyter.widget-state+json": {
        "0fb9a219221643dbb8423f275a18da72": {
          "model_module": "@jupyter-widgets/controls",
          "model_module_version": "1.5.0",
          "model_name": "DescriptionStyleModel",
          "state": {
            "_model_module": "@jupyter-widgets/controls",
            "_model_module_version": "1.5.0",
            "_model_name": "DescriptionStyleModel",
            "_view_count": null,
            "_view_module": "@jupyter-widgets/base",
            "_view_module_version": "1.2.0",
            "_view_name": "StyleView",
            "description_width": ""
          }
        },
        "242f70ebfdd7459481861df24a737b90": {
          "model_module": "@jupyter-widgets/controls",
          "model_module_version": "1.5.0",
          "model_name": "HTMLModel",
          "state": {
            "_dom_classes": [],
            "_model_module": "@jupyter-widgets/controls",
            "_model_module_version": "1.5.0",
            "_model_name": "HTMLModel",
            "_view_count": null,
            "_view_module": "@jupyter-widgets/controls",
            "_view_module_version": "1.5.0",
            "_view_name": "HTMLView",
            "description": "",
            "description_tooltip": null,
            "layout": "IPY_MODEL_955f3cdbc3da42069a6c07d251e523cd",
            "placeholder": "​",
            "style": "IPY_MODEL_efeff6c575bf4ef79646a0a26b26c947",
            "value": " 0/10 [00:00&lt;?, ?it/s]"
          }
        },
        "259057fc0a534c1eb42b295ffc0553e9": {
          "model_module": "@jupyter-widgets/controls",
          "model_module_version": "1.5.0",
          "model_name": "HBoxModel",
          "state": {
            "_dom_classes": [],
            "_model_module": "@jupyter-widgets/controls",
            "_model_module_version": "1.5.0",
            "_model_name": "HBoxModel",
            "_view_count": null,
            "_view_module": "@jupyter-widgets/controls",
            "_view_module_version": "1.5.0",
            "_view_name": "HBoxView",
            "box_style": "",
            "children": [
              "IPY_MODEL_f2b35d7532c746f5bf9ce07bced06341",
              "IPY_MODEL_f16757c2cc1049b6b3e7119a095ae1d0",
              "IPY_MODEL_242f70ebfdd7459481861df24a737b90"
            ],
            "layout": "IPY_MODEL_a39da4cafb2548be8989d6972ed1d2dc"
          }
        },
        "3249071e17e94c04a2c3f16c9043f64b": {
          "model_module": "@jupyter-widgets/base",
          "model_module_version": "1.2.0",
          "model_name": "LayoutModel",
          "state": {
            "_model_module": "@jupyter-widgets/base",
            "_model_module_version": "1.2.0",
            "_model_name": "LayoutModel",
            "_view_count": null,
            "_view_module": "@jupyter-widgets/base",
            "_view_module_version": "1.2.0",
            "_view_name": "LayoutView",
            "align_content": null,
            "align_items": null,
            "align_self": null,
            "border": null,
            "bottom": null,
            "display": null,
            "flex": null,
            "flex_flow": null,
            "grid_area": null,
            "grid_auto_columns": null,
            "grid_auto_flow": null,
            "grid_auto_rows": null,
            "grid_column": null,
            "grid_gap": null,
            "grid_row": null,
            "grid_template_areas": null,
            "grid_template_columns": null,
            "grid_template_rows": null,
            "height": null,
            "justify_content": null,
            "justify_items": null,
            "left": null,
            "margin": null,
            "max_height": null,
            "max_width": null,
            "min_height": null,
            "min_width": null,
            "object_fit": null,
            "object_position": null,
            "order": null,
            "overflow": null,
            "overflow_x": null,
            "overflow_y": null,
            "padding": null,
            "right": null,
            "top": null,
            "visibility": null,
            "width": null
          }
        },
        "3674eafdb98740939b72b0e635a034ff": {
          "model_module": "@jupyter-widgets/controls",
          "model_module_version": "1.5.0",
          "model_name": "ProgressStyleModel",
          "state": {
            "_model_module": "@jupyter-widgets/controls",
            "_model_module_version": "1.5.0",
            "_model_name": "ProgressStyleModel",
            "_view_count": null,
            "_view_module": "@jupyter-widgets/base",
            "_view_module_version": "1.2.0",
            "_view_name": "StyleView",
            "bar_color": null,
            "description_width": ""
          }
        },
        "955f3cdbc3da42069a6c07d251e523cd": {
          "model_module": "@jupyter-widgets/base",
          "model_module_version": "1.2.0",
          "model_name": "LayoutModel",
          "state": {
            "_model_module": "@jupyter-widgets/base",
            "_model_module_version": "1.2.0",
            "_model_name": "LayoutModel",
            "_view_count": null,
            "_view_module": "@jupyter-widgets/base",
            "_view_module_version": "1.2.0",
            "_view_name": "LayoutView",
            "align_content": null,
            "align_items": null,
            "align_self": null,
            "border": null,
            "bottom": null,
            "display": null,
            "flex": null,
            "flex_flow": null,
            "grid_area": null,
            "grid_auto_columns": null,
            "grid_auto_flow": null,
            "grid_auto_rows": null,
            "grid_column": null,
            "grid_gap": null,
            "grid_row": null,
            "grid_template_areas": null,
            "grid_template_columns": null,
            "grid_template_rows": null,
            "height": null,
            "justify_content": null,
            "justify_items": null,
            "left": null,
            "margin": null,
            "max_height": null,
            "max_width": null,
            "min_height": null,
            "min_width": null,
            "object_fit": null,
            "object_position": null,
            "order": null,
            "overflow": null,
            "overflow_x": null,
            "overflow_y": null,
            "padding": null,
            "right": null,
            "top": null,
            "visibility": null,
            "width": null
          }
        },
        "a39da4cafb2548be8989d6972ed1d2dc": {
          "model_module": "@jupyter-widgets/base",
          "model_module_version": "1.2.0",
          "model_name": "LayoutModel",
          "state": {
            "_model_module": "@jupyter-widgets/base",
            "_model_module_version": "1.2.0",
            "_model_name": "LayoutModel",
            "_view_count": null,
            "_view_module": "@jupyter-widgets/base",
            "_view_module_version": "1.2.0",
            "_view_name": "LayoutView",
            "align_content": null,
            "align_items": null,
            "align_self": null,
            "border": null,
            "bottom": null,
            "display": null,
            "flex": null,
            "flex_flow": null,
            "grid_area": null,
            "grid_auto_columns": null,
            "grid_auto_flow": null,
            "grid_auto_rows": null,
            "grid_column": null,
            "grid_gap": null,
            "grid_row": null,
            "grid_template_areas": null,
            "grid_template_columns": null,
            "grid_template_rows": null,
            "height": null,
            "justify_content": null,
            "justify_items": null,
            "left": null,
            "margin": null,
            "max_height": null,
            "max_width": null,
            "min_height": null,
            "min_width": null,
            "object_fit": null,
            "object_position": null,
            "order": null,
            "overflow": null,
            "overflow_x": null,
            "overflow_y": null,
            "padding": null,
            "right": null,
            "top": null,
            "visibility": null,
            "width": null
          }
        },
        "d3f1083c82ef4bfb99c97270b52f8af0": {
          "model_module": "@jupyter-widgets/base",
          "model_module_version": "1.2.0",
          "model_name": "LayoutModel",
          "state": {
            "_model_module": "@jupyter-widgets/base",
            "_model_module_version": "1.2.0",
            "_model_name": "LayoutModel",
            "_view_count": null,
            "_view_module": "@jupyter-widgets/base",
            "_view_module_version": "1.2.0",
            "_view_name": "LayoutView",
            "align_content": null,
            "align_items": null,
            "align_self": null,
            "border": null,
            "bottom": null,
            "display": null,
            "flex": null,
            "flex_flow": null,
            "grid_area": null,
            "grid_auto_columns": null,
            "grid_auto_flow": null,
            "grid_auto_rows": null,
            "grid_column": null,
            "grid_gap": null,
            "grid_row": null,
            "grid_template_areas": null,
            "grid_template_columns": null,
            "grid_template_rows": null,
            "height": null,
            "justify_content": null,
            "justify_items": null,
            "left": null,
            "margin": null,
            "max_height": null,
            "max_width": null,
            "min_height": null,
            "min_width": null,
            "object_fit": null,
            "object_position": null,
            "order": null,
            "overflow": null,
            "overflow_x": null,
            "overflow_y": null,
            "padding": null,
            "right": null,
            "top": null,
            "visibility": null,
            "width": null
          }
        },
        "efeff6c575bf4ef79646a0a26b26c947": {
          "model_module": "@jupyter-widgets/controls",
          "model_module_version": "1.5.0",
          "model_name": "DescriptionStyleModel",
          "state": {
            "_model_module": "@jupyter-widgets/controls",
            "_model_module_version": "1.5.0",
            "_model_name": "DescriptionStyleModel",
            "_view_count": null,
            "_view_module": "@jupyter-widgets/base",
            "_view_module_version": "1.2.0",
            "_view_name": "StyleView",
            "description_width": ""
          }
        },
        "f16757c2cc1049b6b3e7119a095ae1d0": {
          "model_module": "@jupyter-widgets/controls",
          "model_module_version": "1.5.0",
          "model_name": "FloatProgressModel",
          "state": {
            "_dom_classes": [],
            "_model_module": "@jupyter-widgets/controls",
            "_model_module_version": "1.5.0",
            "_model_name": "FloatProgressModel",
            "_view_count": null,
            "_view_module": "@jupyter-widgets/controls",
            "_view_module_version": "1.5.0",
            "_view_name": "ProgressView",
            "bar_style": "danger",
            "description": "",
            "description_tooltip": null,
            "layout": "IPY_MODEL_d3f1083c82ef4bfb99c97270b52f8af0",
            "max": 10,
            "min": 0,
            "orientation": "horizontal",
            "style": "IPY_MODEL_3674eafdb98740939b72b0e635a034ff",
            "value": 0
          }
        },
        "f2b35d7532c746f5bf9ce07bced06341": {
          "model_module": "@jupyter-widgets/controls",
          "model_module_version": "1.5.0",
          "model_name": "HTMLModel",
          "state": {
            "_dom_classes": [],
            "_model_module": "@jupyter-widgets/controls",
            "_model_module_version": "1.5.0",
            "_model_name": "HTMLModel",
            "_view_count": null,
            "_view_module": "@jupyter-widgets/controls",
            "_view_module_version": "1.5.0",
            "_view_name": "HTMLView",
            "description": "",
            "description_tooltip": null,
            "layout": "IPY_MODEL_3249071e17e94c04a2c3f16c9043f64b",
            "placeholder": "​",
            "style": "IPY_MODEL_0fb9a219221643dbb8423f275a18da72",
            "value": "  0%"
          }
        }
      }
    }
  },
  "nbformat": 4,
  "nbformat_minor": 0
}
