{
  "cells": [
    {
      "cell_type": "code",
      "execution_count": 4,
      "metadata": {
        "id": "G4QL8ghY6wLI"
      },
      "outputs": [
        {
          "name": "stderr",
          "output_type": "stream",
          "text": [
            "/home/yumin/miniconda3/envs/detec/lib/python3.11/site-packages/tqdm/auto.py:21: TqdmWarning: IProgress not found. Please update jupyter and ipywidgets. See https://ipywidgets.readthedocs.io/en/stable/user_install.html\n",
            "  from .autonotebook import tqdm as notebook_tqdm\n"
          ]
        }
      ],
      "source": [
        "import torch\n",
        "import random\n",
        "import pandas as pd\n",
        "import numpy as np\n",
        "import os\n",
        "\n",
        "# 시드값 고정\n",
        "seed = 50\n",
        "os.environ['PYTHONHASHSEED'] = str(seed)\n",
        "random.seed(seed)\n",
        "np.random.seed(seed)\n",
        "torch.manual_seed(seed)\n",
        "torch.cuda.manual_seed(seed)\n",
        "torch.cuda.manual_seed_all(seed)\n",
        "torch.backends.cudnn.deterministic = True\n",
        "torch.backends.cudnn.benchmark = False\n",
        "torch.backends.cudnn.enabled = False\n",
        "\n",
        "import torch\n",
        "import torch.nn as nn\n",
        "import torch.nn.functional as F\n",
        "import torch.optim as optim\n",
        "from torch.utils.data import Dataset, DataLoader\n",
        "import albumentations as A\n",
        "from albumentations.pytorch import ToTensorV2\n",
        "from tqdm.auto import tqdm\n",
        "from sklearn.metrics import f1_score\n",
        "from sklearn.model_selection import StratifiedKFold\n",
        "import timm"
      ]
    },
    {
      "cell_type": "code",
      "execution_count": 5,
      "metadata": {
        "colab": {
          "base_uri": "https://localhost:8080/"
        },
        "id": "zltjOtJz6-6L",
        "outputId": "0a7a4571-b0c2-403e-87ed-fe9914cc847b"
      },
      "outputs": [
        {
          "data": {
            "text/plain": [
              "device(type='cuda')"
            ]
          },
          "execution_count": 5,
          "metadata": {},
          "output_type": "execute_result"
        }
      ],
      "source": [
        "device = torch.device('cuda' if torch.cuda.is_available() else 'cpu')\n",
        "device"
      ]
    },
    {
      "cell_type": "code",
      "execution_count": 6,
      "metadata": {
        "id": "nD_4fbvu7Hhg"
      },
      "outputs": [],
      "source": [
        "raw_data = pd.read_csv(\"./dataset/sign_mnist_train.csv\")\n",
        "test_data = pd.read_csv(\"./dataset/sign_mnist_test.csv\")\n",
        "# raw_data = pd.read_csv(\"./drive/MyDrive/Colab Notebooks/classification/data/sign_mnist_train.csv\")"
      ]
    },
    {
      "cell_type": "code",
      "execution_count": 7,
      "metadata": {
        "colab": {
          "base_uri": "https://localhost:8080/"
        },
        "id": "2fBAZ60U7JoH",
        "outputId": "515612e1-02b0-476a-9423-4c9249d3935e"
      },
      "outputs": [],
      "source": [
        "raw_data = raw_data[:2000]\n",
        "\n",
        "kfold = StratifiedKFold(n_splits=5, shuffle=True, random_state=50)\n",
        "\n",
        "labels = raw_data.iloc[:, 0]\n",
        "features = raw_data\n",
        "\n",
        "val_data = pd.DataFrame()\n",
        "train_data = pd.DataFrame()\n",
        "\n",
        "for i, (_, label_index) in enumerate( kfold.split(features, labels)):\n",
        "    pic_fold_data = features.iloc[label_index]\n",
        "\n",
        "    if not i:\n",
        "        val_data = pic_fold_data.reset_index(drop=True)\n",
        "        \n",
        "    else:\n",
        "        train_data = pd.concat([train_data, pic_fold_data], ignore_index=True)"
      ]
    },
    {
      "cell_type": "code",
      "execution_count": 8,
      "metadata": {
        "colab": {
          "base_uri": "https://localhost:8080/",
          "height": 255
        },
        "id": "B7nJaLj195oy",
        "outputId": "615f389e-611d-4e8f-85c3-f1bd770290e5"
      },
      "outputs": [
        {
          "data": {
            "text/html": [
              "<div>\n",
              "<style scoped>\n",
              "    .dataframe tbody tr th:only-of-type {\n",
              "        vertical-align: middle;\n",
              "    }\n",
              "\n",
              "    .dataframe tbody tr th {\n",
              "        vertical-align: top;\n",
              "    }\n",
              "\n",
              "    .dataframe thead th {\n",
              "        text-align: right;\n",
              "    }\n",
              "</style>\n",
              "<table border=\"1\" class=\"dataframe\">\n",
              "  <thead>\n",
              "    <tr style=\"text-align: right;\">\n",
              "      <th></th>\n",
              "      <th>label</th>\n",
              "      <th>pixel1</th>\n",
              "      <th>pixel2</th>\n",
              "      <th>pixel3</th>\n",
              "      <th>pixel4</th>\n",
              "      <th>pixel5</th>\n",
              "      <th>pixel6</th>\n",
              "      <th>pixel7</th>\n",
              "      <th>pixel8</th>\n",
              "      <th>pixel9</th>\n",
              "      <th>...</th>\n",
              "      <th>pixel775</th>\n",
              "      <th>pixel776</th>\n",
              "      <th>pixel777</th>\n",
              "      <th>pixel778</th>\n",
              "      <th>pixel779</th>\n",
              "      <th>pixel780</th>\n",
              "      <th>pixel781</th>\n",
              "      <th>pixel782</th>\n",
              "      <th>pixel783</th>\n",
              "      <th>pixel784</th>\n",
              "    </tr>\n",
              "  </thead>\n",
              "  <tbody>\n",
              "    <tr>\n",
              "      <th>0</th>\n",
              "      <td>2</td>\n",
              "      <td>187</td>\n",
              "      <td>188</td>\n",
              "      <td>188</td>\n",
              "      <td>187</td>\n",
              "      <td>187</td>\n",
              "      <td>186</td>\n",
              "      <td>187</td>\n",
              "      <td>188</td>\n",
              "      <td>187</td>\n",
              "      <td>...</td>\n",
              "      <td>202</td>\n",
              "      <td>201</td>\n",
              "      <td>200</td>\n",
              "      <td>199</td>\n",
              "      <td>198</td>\n",
              "      <td>199</td>\n",
              "      <td>198</td>\n",
              "      <td>195</td>\n",
              "      <td>194</td>\n",
              "      <td>195</td>\n",
              "    </tr>\n",
              "    <tr>\n",
              "      <th>1</th>\n",
              "      <td>13</td>\n",
              "      <td>164</td>\n",
              "      <td>167</td>\n",
              "      <td>170</td>\n",
              "      <td>172</td>\n",
              "      <td>176</td>\n",
              "      <td>179</td>\n",
              "      <td>180</td>\n",
              "      <td>184</td>\n",
              "      <td>185</td>\n",
              "      <td>...</td>\n",
              "      <td>92</td>\n",
              "      <td>105</td>\n",
              "      <td>105</td>\n",
              "      <td>108</td>\n",
              "      <td>133</td>\n",
              "      <td>163</td>\n",
              "      <td>157</td>\n",
              "      <td>163</td>\n",
              "      <td>164</td>\n",
              "      <td>179</td>\n",
              "    </tr>\n",
              "    <tr>\n",
              "      <th>2</th>\n",
              "      <td>16</td>\n",
              "      <td>161</td>\n",
              "      <td>168</td>\n",
              "      <td>172</td>\n",
              "      <td>173</td>\n",
              "      <td>178</td>\n",
              "      <td>184</td>\n",
              "      <td>189</td>\n",
              "      <td>193</td>\n",
              "      <td>196</td>\n",
              "      <td>...</td>\n",
              "      <td>76</td>\n",
              "      <td>74</td>\n",
              "      <td>68</td>\n",
              "      <td>62</td>\n",
              "      <td>53</td>\n",
              "      <td>55</td>\n",
              "      <td>48</td>\n",
              "      <td>238</td>\n",
              "      <td>255</td>\n",
              "      <td>255</td>\n",
              "    </tr>\n",
              "    <tr>\n",
              "      <th>3</th>\n",
              "      <td>3</td>\n",
              "      <td>169</td>\n",
              "      <td>174</td>\n",
              "      <td>176</td>\n",
              "      <td>180</td>\n",
              "      <td>183</td>\n",
              "      <td>185</td>\n",
              "      <td>187</td>\n",
              "      <td>188</td>\n",
              "      <td>190</td>\n",
              "      <td>...</td>\n",
              "      <td>119</td>\n",
              "      <td>118</td>\n",
              "      <td>123</td>\n",
              "      <td>120</td>\n",
              "      <td>118</td>\n",
              "      <td>114</td>\n",
              "      <td>94</td>\n",
              "      <td>74</td>\n",
              "      <td>61</td>\n",
              "      <td>57</td>\n",
              "    </tr>\n",
              "    <tr>\n",
              "      <th>4</th>\n",
              "      <td>10</td>\n",
              "      <td>0</td>\n",
              "      <td>25</td>\n",
              "      <td>38</td>\n",
              "      <td>40</td>\n",
              "      <td>41</td>\n",
              "      <td>46</td>\n",
              "      <td>50</td>\n",
              "      <td>56</td>\n",
              "      <td>69</td>\n",
              "      <td>...</td>\n",
              "      <td>129</td>\n",
              "      <td>85</td>\n",
              "      <td>60</td>\n",
              "      <td>64</td>\n",
              "      <td>72</td>\n",
              "      <td>70</td>\n",
              "      <td>67</td>\n",
              "      <td>65</td>\n",
              "      <td>62</td>\n",
              "      <td>64</td>\n",
              "    </tr>\n",
              "  </tbody>\n",
              "</table>\n",
              "<p>5 rows × 785 columns</p>\n",
              "</div>"
            ],
            "text/plain": [
              "   label  pixel1  pixel2  pixel3  pixel4  pixel5  pixel6  pixel7  pixel8  \\\n",
              "0      2     187     188     188     187     187     186     187     188   \n",
              "1     13     164     167     170     172     176     179     180     184   \n",
              "2     16     161     168     172     173     178     184     189     193   \n",
              "3      3     169     174     176     180     183     185     187     188   \n",
              "4     10       0      25      38      40      41      46      50      56   \n",
              "\n",
              "   pixel9  ...  pixel775  pixel776  pixel777  pixel778  pixel779  pixel780  \\\n",
              "0     187  ...       202       201       200       199       198       199   \n",
              "1     185  ...        92       105       105       108       133       163   \n",
              "2     196  ...        76        74        68        62        53        55   \n",
              "3     190  ...       119       118       123       120       118       114   \n",
              "4      69  ...       129        85        60        64        72        70   \n",
              "\n",
              "   pixel781  pixel782  pixel783  pixel784  \n",
              "0       198       195       194       195  \n",
              "1       157       163       164       179  \n",
              "2        48       238       255       255  \n",
              "3        94        74        61        57  \n",
              "4        67        65        62        64  \n",
              "\n",
              "[5 rows x 785 columns]"
            ]
          },
          "execution_count": 8,
          "metadata": {},
          "output_type": "execute_result"
        }
      ],
      "source": [
        "train_data.head()"
      ]
    },
    {
      "cell_type": "code",
      "execution_count": 9,
      "metadata": {
        "id": "GpmQAZAd7m21"
      },
      "outputs": [],
      "source": [
        "transforms_for_train = A.Compose([\n",
        "\n",
        "                ])\n",
        "\n",
        "transforms_for_test = A.Compose([\n",
        "\n",
        "                ])"
      ]
    },
    {
      "cell_type": "code",
      "execution_count": 10,
      "metadata": {},
      "outputs": [],
      "source": [
        "class Sign(Dataset):\n",
        "    def __init__(self, data = None, is_train = False, transforms=None):\n",
        "        self.label_data = data['label']\n",
        "        self.pic_data = data.drop(labels = [\"label\"],axis = 1)\n",
        "        self.pic_data = self.pic_data.values.reshape(-1,1, 28,28)\n",
        "        self.pic_data = self.pic_data/255\n",
        "        self.pic_data = torch.from_numpy(self.pic_data).float()\n",
        "        self.pic_data = self.pic_data.expand(-1,3,-1,-1)\n",
        "        self.is_train = is_train\n",
        "        self.transforms = transforms\n",
        "\n",
        "    def __len__(self):\n",
        "        return len(self.label_data)\n",
        "\n",
        "    def __getitem__(self, item):\n",
        "        \n",
        "        labels = self.label_data[item]\n",
        "        images = self.pic_data[item]\n",
        "        images = images.numpy()\n",
        "\n",
        "        if self.is_train:\n",
        "            images = self.transforms(image = images)['image']\n",
        "        images = torch.from_numpy(images)\n",
        "        # images = images/255\n",
        "\n",
        "        return images, labels"
      ]
    },
    {
      "cell_type": "code",
      "execution_count": 11,
      "metadata": {
        "id": "M3mM-60p7rei"
      },
      "outputs": [],
      "source": [
        "train_dataset = Sign(data=train_data, is_train=True, transforms=transforms_for_train)\n",
        "val_dataset = Sign(data=val_data, is_train=False)\n",
        "test_dataset = Sign(data=test_data, is_train=False)"
      ]
    },
    {
      "cell_type": "code",
      "execution_count": 12,
      "metadata": {
        "colab": {
          "base_uri": "https://localhost:8080/"
        },
        "id": "XKhqPg-x7u-c",
        "outputId": "3bc26ec6-3d95-411d-eafe-be1d29bc277c"
      },
      "outputs": [],
      "source": [
        "train_loader = DataLoader(\n",
        "    dataset=train_dataset,\n",
        "    batch_size=80,\n",
        "    shuffle=True,\n",
        "    num_workers=0,  # 로컬에서 작동한다면 4, 8 로 바꿔서 멀티프로세싱해도 됩니다\n",
        "    drop_last=True,\n",
        ")\n",
        "\n",
        "val_loader = DataLoader(\n",
        "    dataset=val_dataset,\n",
        "    batch_size=80,\n",
        "    shuffle=True,\n",
        "    num_workers=0,\n",
        "    drop_last=True,\n",
        ")\n",
        "\n",
        "test_loader = DataLoader(\n",
        "    dataset=test_dataset,\n",
        "    batch_size=80,\n",
        "    shuffle=True,\n",
        "    num_workers=0,\n",
        "    drop_last=True,\n",
        ")"
      ]
    },
    {
      "cell_type": "code",
      "execution_count": 13,
      "metadata": {
        "id": "CbvyLJxq7x9v"
      },
      "outputs": [],
      "source": [
        "NUM_EPOCHS = 50\n",
        "VAL_EVERY = 10\n",
        "SAVE_DIR = './Save/'"
      ]
    },
    {
      "cell_type": "code",
      "execution_count": 14,
      "metadata": {
        "id": "bDic-7__7z9z"
      },
      "outputs": [],
      "source": [
        "def save_model(model, file_name='best_model_Adam.pt'):\n",
        "    output_path = os.path.join(SAVE_DIR, file_name)\n",
        "    if not os.path.exists(SAVE_DIR):\n",
        "        os.makedirs(SAVE_DIR)\n",
        "    torch.save(model, output_path)\n",
        "\n",
        "def validation(epoch, model, data_loader, criterion):\n",
        "    print(f'Start validation #{epoch:2d}')\n",
        "    with torch.no_grad():\n",
        "        all_preds = []\n",
        "        all_labels = []\n",
        "        for step, (images, labels) in tqdm(enumerate(data_loader), total=len(data_loader)):\n",
        "            images, labels = images.cuda(), labels.cuda()\n",
        "            model = model.cuda()\n",
        "\n",
        "            outputs = model(images)\n",
        "            preds = torch.argmax(outputs, dim=1)\n",
        "            all_preds.extend(preds.cpu().numpy())\n",
        "            all_labels.extend(labels.cpu().numpy())\n",
        "        f1 = f1_score(all_labels, all_preds, average='micro')\n",
        "        print(f'F1 Score: {f1}')\n",
        "    return f1\n",
        "\n",
        "def train(model, data_loader, criterion, optimizer):\n",
        "    print(f'Start training..')\n",
        "    best_acc = 0\n",
        "\n",
        "    for epoch in range(NUM_EPOCHS):\n",
        "        model.train()\n",
        "        for step, (images, labels) in enumerate(tqdm(data_loader)):\n",
        "            images, labels = images.cuda(), labels.cuda()\n",
        "            model = model.cuda()\n",
        "\n",
        "            outputs = model(images)\n",
        "\n",
        "            # loss를 계산합니다.\n",
        "            loss = criterion(outputs, labels)\n",
        "            optimizer.zero_grad()\n",
        "            loss.backward()\n",
        "            optimizer.step()\n",
        "\n",
        "            # step 주기에 따라 loss를 출력합니다.\n",
        "            if (step + 1) % 400 == 0:\n",
        "                print(\n",
        "                    f'Epoch [{epoch+1}/{NUM_EPOCHS}], '\n",
        "                    f'Step [{step+1}/{len(train_loader)}], '\n",
        "                    f'Loss: {round(loss.item(),4)}'\n",
        "                )\n",
        "        if (epoch + 1) % VAL_EVERY == 0:\n",
        "            acc = validation(epoch + 1, model, val_loader, criterion)\n",
        "            if best_acc < acc:\n",
        "                print(f\"Best performance at epoch: {epoch + 1}, {best_acc:.4f} -> {acc:.4f}\")\n",
        "                best_acc = acc\n",
        "                save_model(model)"
      ]
    },
    {
      "cell_type": "code",
      "execution_count": 15,
      "metadata": {
        "colab": {
          "base_uri": "https://localhost:8080/",
          "height": 655,
          "referenced_widgets": [
            "259057fc0a534c1eb42b295ffc0553e9",
            "f2b35d7532c746f5bf9ce07bced06341",
            "f16757c2cc1049b6b3e7119a095ae1d0",
            "242f70ebfdd7459481861df24a737b90",
            "a39da4cafb2548be8989d6972ed1d2dc",
            "3249071e17e94c04a2c3f16c9043f64b",
            "0fb9a219221643dbb8423f275a18da72",
            "d3f1083c82ef4bfb99c97270b52f8af0",
            "3674eafdb98740939b72b0e635a034ff",
            "955f3cdbc3da42069a6c07d251e523cd",
            "efeff6c575bf4ef79646a0a26b26c947"
          ]
        },
        "id": "Lw-DTNY576w3",
        "outputId": "aa5ffbe2-4969-4259-c73e-12bb81ec74db"
      },
      "outputs": [
        {
          "name": "stdout",
          "output_type": "stream",
          "text": [
            "Start training..\n"
          ]
        },
        {
          "name": "stderr",
          "output_type": "stream",
          "text": [
            "100%|██████████| 20/20 [00:05<00:00,  3.76it/s]\n",
            "100%|██████████| 20/20 [00:03<00:00,  5.85it/s]\n",
            "100%|██████████| 20/20 [00:03<00:00,  5.64it/s]\n",
            "100%|██████████| 20/20 [00:04<00:00,  4.59it/s]\n",
            "100%|██████████| 20/20 [00:07<00:00,  2.59it/s]\n",
            "100%|██████████| 20/20 [00:10<00:00,  1.95it/s]\n",
            "100%|██████████| 20/20 [00:10<00:00,  1.95it/s]\n",
            "100%|██████████| 20/20 [00:10<00:00,  1.94it/s]\n",
            "100%|██████████| 20/20 [00:10<00:00,  1.97it/s]\n",
            "100%|██████████| 20/20 [00:10<00:00,  1.97it/s]\n"
          ]
        },
        {
          "name": "stdout",
          "output_type": "stream",
          "text": [
            "Start validation #10\n"
          ]
        },
        {
          "name": "stderr",
          "output_type": "stream",
          "text": [
            "100%|██████████| 5/5 [00:00<00:00,  5.10it/s]\n"
          ]
        },
        {
          "name": "stdout",
          "output_type": "stream",
          "text": [
            "F1 Score: 0.925\n",
            "Best performance at epoch: 10, 0.0000 -> 0.9250\n"
          ]
        },
        {
          "name": "stderr",
          "output_type": "stream",
          "text": [
            "100%|██████████| 20/20 [00:10<00:00,  1.90it/s]\n",
            "100%|██████████| 20/20 [00:10<00:00,  1.88it/s]\n",
            "100%|██████████| 20/20 [00:10<00:00,  1.95it/s]\n",
            "100%|██████████| 20/20 [00:10<00:00,  1.96it/s]\n",
            "100%|██████████| 20/20 [00:10<00:00,  1.91it/s]\n",
            "100%|██████████| 20/20 [00:10<00:00,  1.97it/s]\n",
            "100%|██████████| 20/20 [00:10<00:00,  1.97it/s]\n",
            "100%|██████████| 20/20 [00:10<00:00,  1.96it/s]\n",
            "100%|██████████| 20/20 [00:10<00:00,  1.96it/s]\n",
            "100%|██████████| 20/20 [00:10<00:00,  1.96it/s]\n"
          ]
        },
        {
          "name": "stdout",
          "output_type": "stream",
          "text": [
            "Start validation #20\n"
          ]
        },
        {
          "name": "stderr",
          "output_type": "stream",
          "text": [
            "100%|██████████| 5/5 [00:00<00:00,  5.39it/s]\n"
          ]
        },
        {
          "name": "stdout",
          "output_type": "stream",
          "text": [
            "F1 Score: 0.94\n",
            "Best performance at epoch: 20, 0.9250 -> 0.9400\n"
          ]
        },
        {
          "name": "stderr",
          "output_type": "stream",
          "text": [
            "100%|██████████| 20/20 [00:10<00:00,  1.97it/s]\n",
            "100%|██████████| 20/20 [00:10<00:00,  1.94it/s]\n",
            "100%|██████████| 20/20 [00:10<00:00,  1.95it/s]\n",
            "100%|██████████| 20/20 [00:10<00:00,  1.98it/s]\n",
            "100%|██████████| 20/20 [00:10<00:00,  1.95it/s]\n",
            "100%|██████████| 20/20 [00:10<00:00,  1.96it/s]\n",
            "100%|██████████| 20/20 [00:10<00:00,  1.96it/s]\n",
            "100%|██████████| 20/20 [00:10<00:00,  1.95it/s]\n",
            "100%|██████████| 20/20 [00:10<00:00,  1.96it/s]\n",
            "100%|██████████| 20/20 [00:10<00:00,  1.91it/s]\n"
          ]
        },
        {
          "name": "stdout",
          "output_type": "stream",
          "text": [
            "Start validation #30\n"
          ]
        },
        {
          "name": "stderr",
          "output_type": "stream",
          "text": [
            "100%|██████████| 5/5 [00:00<00:00,  5.50it/s]\n"
          ]
        },
        {
          "name": "stdout",
          "output_type": "stream",
          "text": [
            "F1 Score: 0.96\n",
            "Best performance at epoch: 30, 0.9400 -> 0.9600\n"
          ]
        },
        {
          "name": "stderr",
          "output_type": "stream",
          "text": [
            "100%|██████████| 20/20 [00:10<00:00,  1.97it/s]\n",
            "100%|██████████| 20/20 [00:10<00:00,  1.95it/s]\n",
            "100%|██████████| 20/20 [00:10<00:00,  1.89it/s]\n",
            "100%|██████████| 20/20 [00:10<00:00,  1.90it/s]\n",
            "100%|██████████| 20/20 [00:10<00:00,  1.88it/s]\n",
            "100%|██████████| 20/20 [00:10<00:00,  1.89it/s]\n",
            "100%|██████████| 20/20 [00:10<00:00,  1.89it/s]\n",
            "100%|██████████| 20/20 [00:10<00:00,  1.89it/s]\n",
            "100%|██████████| 20/20 [00:10<00:00,  1.88it/s]\n",
            "100%|██████████| 20/20 [00:10<00:00,  1.89it/s]\n"
          ]
        },
        {
          "name": "stdout",
          "output_type": "stream",
          "text": [
            "Start validation #40\n"
          ]
        },
        {
          "name": "stderr",
          "output_type": "stream",
          "text": [
            "100%|██████████| 5/5 [00:00<00:00,  5.26it/s]\n"
          ]
        },
        {
          "name": "stdout",
          "output_type": "stream",
          "text": [
            "F1 Score: 0.9525\n"
          ]
        },
        {
          "name": "stderr",
          "output_type": "stream",
          "text": [
            "100%|██████████| 20/20 [00:10<00:00,  1.90it/s]\n",
            "100%|██████████| 20/20 [00:10<00:00,  1.88it/s]\n",
            "100%|██████████| 20/20 [00:10<00:00,  1.88it/s]\n",
            "100%|██████████| 20/20 [00:10<00:00,  1.89it/s]\n",
            "100%|██████████| 20/20 [00:10<00:00,  1.88it/s]\n",
            "100%|██████████| 20/20 [00:10<00:00,  1.88it/s]\n",
            "100%|██████████| 20/20 [00:10<00:00,  1.90it/s]\n",
            "100%|██████████| 20/20 [00:10<00:00,  1.88it/s]\n",
            "100%|██████████| 20/20 [00:10<00:00,  1.89it/s]\n",
            "100%|██████████| 20/20 [00:10<00:00,  1.93it/s]\n"
          ]
        },
        {
          "name": "stdout",
          "output_type": "stream",
          "text": [
            "Start validation #50\n"
          ]
        },
        {
          "name": "stderr",
          "output_type": "stream",
          "text": [
            "100%|██████████| 5/5 [00:00<00:00,  5.19it/s]\n"
          ]
        },
        {
          "name": "stdout",
          "output_type": "stream",
          "text": [
            "F1 Score: 0.9675\n",
            "Best performance at epoch: 50, 0.9600 -> 0.9675\n"
          ]
        }
      ],
      "source": [
        "model = timm.create_model('resnet50', pretrained=True, num_classes=26)\n",
        "\n",
        "criterion = nn.CrossEntropyLoss()\n",
        "\n",
        "LR = 1e-3\n",
        "optimizer = optim.AdamW(params=model.parameters(), lr=LR)\n",
        "\n",
        "train(model, train_loader, criterion, optimizer)"
      ]
    },
    {
      "cell_type": "code",
      "execution_count": 16,
      "metadata": {},
      "outputs": [],
      "source": [
        "def test(model, test_loader, criterion):\n",
        "    model_path = './Save/best_model_Adam.pt'\n",
        "    model = torch.load(model_path)\n",
        "    model.cuda()\n",
        "\n",
        "    print(f'Start inference')\n",
        "    model.eval()\n",
        "\n",
        "    all_preds = []\n",
        "    all_labels =[]\n",
        "\n",
        "    with torch.no_grad():\n",
        "        for images, labels in tqdm(test_loader):\n",
        "            images, labels = images.cuda(), labels.cuda()\n",
        "            outputs = model(images)\n",
        "            preds = torch.argmax(outputs, dim=1)\n",
        "            all_preds.extend(preds.cpu().numpy())\n",
        "            all_labels.extend(labels.cpu().numpy())\n",
        "        count = sum(1 for pred, label in zip(preds, labels) if pred==label)\n",
        "\n",
        "    acc = count/len(preds)\n",
        "    f1 = f1_score(all_preds, all_labels, average='micro')\n",
        "    return acc, f1\n"
      ]
    },
    {
      "cell_type": "code",
      "execution_count": 17,
      "metadata": {},
      "outputs": [
        {
          "name": "stdout",
          "output_type": "stream",
          "text": [
            "Start inference\n"
          ]
        },
        {
          "name": "stderr",
          "output_type": "stream",
          "text": [
            "100%|██████████| 89/89 [00:15<00:00,  5.74it/s]\n"
          ]
        },
        {
          "name": "stdout",
          "output_type": "stream",
          "text": [
            "acc : 0.9500\n",
            "f1 : 0.9265\n"
          ]
        }
      ],
      "source": [
        "criterion = nn.CrossEntropyLoss()\n",
        "acc, f1 = test(model, test_loader, criterion)\n",
        "\n",
        "print(f'acc : {acc:.4f}')\n",
        "print(f'f1 : {f1:.4f}')"
      ]
    },
    {
      "cell_type": "code",
      "execution_count": null,
      "metadata": {},
      "outputs": [],
      "source": []
    }
  ],
  "metadata": {
    "accelerator": "GPU",
    "colab": {
      "gpuType": "T4",
      "provenance": []
    },
    "kernelspec": {
      "display_name": "Python 3",
      "name": "python3"
    },
    "language_info": {
      "codemirror_mode": {
        "name": "ipython",
        "version": 3
      },
      "file_extension": ".py",
      "mimetype": "text/x-python",
      "name": "python",
      "nbconvert_exporter": "python",
      "pygments_lexer": "ipython3",
      "version": "3.11.8"
    },
    "widgets": {
      "application/vnd.jupyter.widget-state+json": {
        "0fb9a219221643dbb8423f275a18da72": {
          "model_module": "@jupyter-widgets/controls",
          "model_module_version": "1.5.0",
          "model_name": "DescriptionStyleModel",
          "state": {
            "_model_module": "@jupyter-widgets/controls",
            "_model_module_version": "1.5.0",
            "_model_name": "DescriptionStyleModel",
            "_view_count": null,
            "_view_module": "@jupyter-widgets/base",
            "_view_module_version": "1.2.0",
            "_view_name": "StyleView",
            "description_width": ""
          }
        },
        "242f70ebfdd7459481861df24a737b90": {
          "model_module": "@jupyter-widgets/controls",
          "model_module_version": "1.5.0",
          "model_name": "HTMLModel",
          "state": {
            "_dom_classes": [],
            "_model_module": "@jupyter-widgets/controls",
            "_model_module_version": "1.5.0",
            "_model_name": "HTMLModel",
            "_view_count": null,
            "_view_module": "@jupyter-widgets/controls",
            "_view_module_version": "1.5.0",
            "_view_name": "HTMLView",
            "description": "",
            "description_tooltip": null,
            "layout": "IPY_MODEL_955f3cdbc3da42069a6c07d251e523cd",
            "placeholder": "​",
            "style": "IPY_MODEL_efeff6c575bf4ef79646a0a26b26c947",
            "value": " 0/10 [00:00&lt;?, ?it/s]"
          }
        },
        "259057fc0a534c1eb42b295ffc0553e9": {
          "model_module": "@jupyter-widgets/controls",
          "model_module_version": "1.5.0",
          "model_name": "HBoxModel",
          "state": {
            "_dom_classes": [],
            "_model_module": "@jupyter-widgets/controls",
            "_model_module_version": "1.5.0",
            "_model_name": "HBoxModel",
            "_view_count": null,
            "_view_module": "@jupyter-widgets/controls",
            "_view_module_version": "1.5.0",
            "_view_name": "HBoxView",
            "box_style": "",
            "children": [
              "IPY_MODEL_f2b35d7532c746f5bf9ce07bced06341",
              "IPY_MODEL_f16757c2cc1049b6b3e7119a095ae1d0",
              "IPY_MODEL_242f70ebfdd7459481861df24a737b90"
            ],
            "layout": "IPY_MODEL_a39da4cafb2548be8989d6972ed1d2dc"
          }
        },
        "3249071e17e94c04a2c3f16c9043f64b": {
          "model_module": "@jupyter-widgets/base",
          "model_module_version": "1.2.0",
          "model_name": "LayoutModel",
          "state": {
            "_model_module": "@jupyter-widgets/base",
            "_model_module_version": "1.2.0",
            "_model_name": "LayoutModel",
            "_view_count": null,
            "_view_module": "@jupyter-widgets/base",
            "_view_module_version": "1.2.0",
            "_view_name": "LayoutView",
            "align_content": null,
            "align_items": null,
            "align_self": null,
            "border": null,
            "bottom": null,
            "display": null,
            "flex": null,
            "flex_flow": null,
            "grid_area": null,
            "grid_auto_columns": null,
            "grid_auto_flow": null,
            "grid_auto_rows": null,
            "grid_column": null,
            "grid_gap": null,
            "grid_row": null,
            "grid_template_areas": null,
            "grid_template_columns": null,
            "grid_template_rows": null,
            "height": null,
            "justify_content": null,
            "justify_items": null,
            "left": null,
            "margin": null,
            "max_height": null,
            "max_width": null,
            "min_height": null,
            "min_width": null,
            "object_fit": null,
            "object_position": null,
            "order": null,
            "overflow": null,
            "overflow_x": null,
            "overflow_y": null,
            "padding": null,
            "right": null,
            "top": null,
            "visibility": null,
            "width": null
          }
        },
        "3674eafdb98740939b72b0e635a034ff": {
          "model_module": "@jupyter-widgets/controls",
          "model_module_version": "1.5.0",
          "model_name": "ProgressStyleModel",
          "state": {
            "_model_module": "@jupyter-widgets/controls",
            "_model_module_version": "1.5.0",
            "_model_name": "ProgressStyleModel",
            "_view_count": null,
            "_view_module": "@jupyter-widgets/base",
            "_view_module_version": "1.2.0",
            "_view_name": "StyleView",
            "bar_color": null,
            "description_width": ""
          }
        },
        "955f3cdbc3da42069a6c07d251e523cd": {
          "model_module": "@jupyter-widgets/base",
          "model_module_version": "1.2.0",
          "model_name": "LayoutModel",
          "state": {
            "_model_module": "@jupyter-widgets/base",
            "_model_module_version": "1.2.0",
            "_model_name": "LayoutModel",
            "_view_count": null,
            "_view_module": "@jupyter-widgets/base",
            "_view_module_version": "1.2.0",
            "_view_name": "LayoutView",
            "align_content": null,
            "align_items": null,
            "align_self": null,
            "border": null,
            "bottom": null,
            "display": null,
            "flex": null,
            "flex_flow": null,
            "grid_area": null,
            "grid_auto_columns": null,
            "grid_auto_flow": null,
            "grid_auto_rows": null,
            "grid_column": null,
            "grid_gap": null,
            "grid_row": null,
            "grid_template_areas": null,
            "grid_template_columns": null,
            "grid_template_rows": null,
            "height": null,
            "justify_content": null,
            "justify_items": null,
            "left": null,
            "margin": null,
            "max_height": null,
            "max_width": null,
            "min_height": null,
            "min_width": null,
            "object_fit": null,
            "object_position": null,
            "order": null,
            "overflow": null,
            "overflow_x": null,
            "overflow_y": null,
            "padding": null,
            "right": null,
            "top": null,
            "visibility": null,
            "width": null
          }
        },
        "a39da4cafb2548be8989d6972ed1d2dc": {
          "model_module": "@jupyter-widgets/base",
          "model_module_version": "1.2.0",
          "model_name": "LayoutModel",
          "state": {
            "_model_module": "@jupyter-widgets/base",
            "_model_module_version": "1.2.0",
            "_model_name": "LayoutModel",
            "_view_count": null,
            "_view_module": "@jupyter-widgets/base",
            "_view_module_version": "1.2.0",
            "_view_name": "LayoutView",
            "align_content": null,
            "align_items": null,
            "align_self": null,
            "border": null,
            "bottom": null,
            "display": null,
            "flex": null,
            "flex_flow": null,
            "grid_area": null,
            "grid_auto_columns": null,
            "grid_auto_flow": null,
            "grid_auto_rows": null,
            "grid_column": null,
            "grid_gap": null,
            "grid_row": null,
            "grid_template_areas": null,
            "grid_template_columns": null,
            "grid_template_rows": null,
            "height": null,
            "justify_content": null,
            "justify_items": null,
            "left": null,
            "margin": null,
            "max_height": null,
            "max_width": null,
            "min_height": null,
            "min_width": null,
            "object_fit": null,
            "object_position": null,
            "order": null,
            "overflow": null,
            "overflow_x": null,
            "overflow_y": null,
            "padding": null,
            "right": null,
            "top": null,
            "visibility": null,
            "width": null
          }
        },
        "d3f1083c82ef4bfb99c97270b52f8af0": {
          "model_module": "@jupyter-widgets/base",
          "model_module_version": "1.2.0",
          "model_name": "LayoutModel",
          "state": {
            "_model_module": "@jupyter-widgets/base",
            "_model_module_version": "1.2.0",
            "_model_name": "LayoutModel",
            "_view_count": null,
            "_view_module": "@jupyter-widgets/base",
            "_view_module_version": "1.2.0",
            "_view_name": "LayoutView",
            "align_content": null,
            "align_items": null,
            "align_self": null,
            "border": null,
            "bottom": null,
            "display": null,
            "flex": null,
            "flex_flow": null,
            "grid_area": null,
            "grid_auto_columns": null,
            "grid_auto_flow": null,
            "grid_auto_rows": null,
            "grid_column": null,
            "grid_gap": null,
            "grid_row": null,
            "grid_template_areas": null,
            "grid_template_columns": null,
            "grid_template_rows": null,
            "height": null,
            "justify_content": null,
            "justify_items": null,
            "left": null,
            "margin": null,
            "max_height": null,
            "max_width": null,
            "min_height": null,
            "min_width": null,
            "object_fit": null,
            "object_position": null,
            "order": null,
            "overflow": null,
            "overflow_x": null,
            "overflow_y": null,
            "padding": null,
            "right": null,
            "top": null,
            "visibility": null,
            "width": null
          }
        },
        "efeff6c575bf4ef79646a0a26b26c947": {
          "model_module": "@jupyter-widgets/controls",
          "model_module_version": "1.5.0",
          "model_name": "DescriptionStyleModel",
          "state": {
            "_model_module": "@jupyter-widgets/controls",
            "_model_module_version": "1.5.0",
            "_model_name": "DescriptionStyleModel",
            "_view_count": null,
            "_view_module": "@jupyter-widgets/base",
            "_view_module_version": "1.2.0",
            "_view_name": "StyleView",
            "description_width": ""
          }
        },
        "f16757c2cc1049b6b3e7119a095ae1d0": {
          "model_module": "@jupyter-widgets/controls",
          "model_module_version": "1.5.0",
          "model_name": "FloatProgressModel",
          "state": {
            "_dom_classes": [],
            "_model_module": "@jupyter-widgets/controls",
            "_model_module_version": "1.5.0",
            "_model_name": "FloatProgressModel",
            "_view_count": null,
            "_view_module": "@jupyter-widgets/controls",
            "_view_module_version": "1.5.0",
            "_view_name": "ProgressView",
            "bar_style": "danger",
            "description": "",
            "description_tooltip": null,
            "layout": "IPY_MODEL_d3f1083c82ef4bfb99c97270b52f8af0",
            "max": 10,
            "min": 0,
            "orientation": "horizontal",
            "style": "IPY_MODEL_3674eafdb98740939b72b0e635a034ff",
            "value": 0
          }
        },
        "f2b35d7532c746f5bf9ce07bced06341": {
          "model_module": "@jupyter-widgets/controls",
          "model_module_version": "1.5.0",
          "model_name": "HTMLModel",
          "state": {
            "_dom_classes": [],
            "_model_module": "@jupyter-widgets/controls",
            "_model_module_version": "1.5.0",
            "_model_name": "HTMLModel",
            "_view_count": null,
            "_view_module": "@jupyter-widgets/controls",
            "_view_module_version": "1.5.0",
            "_view_name": "HTMLView",
            "description": "",
            "description_tooltip": null,
            "layout": "IPY_MODEL_3249071e17e94c04a2c3f16c9043f64b",
            "placeholder": "​",
            "style": "IPY_MODEL_0fb9a219221643dbb8423f275a18da72",
            "value": "  0%"
          }
        }
      }
    }
  },
  "nbformat": 4,
  "nbformat_minor": 0
}
