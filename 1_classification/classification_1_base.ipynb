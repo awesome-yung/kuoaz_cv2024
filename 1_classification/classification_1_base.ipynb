{
  "cells": [
    {
      "cell_type": "code",
      "execution_count": 1,
      "metadata": {
        "id": "G4QL8ghY6wLI"
      },
      "outputs": [
        {
          "name": "stderr",
          "output_type": "stream",
          "text": [
            "/home/yumin/miniconda3/envs/detec/lib/python3.11/site-packages/tqdm/auto.py:21: TqdmWarning: IProgress not found. Please update jupyter and ipywidgets. See https://ipywidgets.readthedocs.io/en/stable/user_install.html\n",
            "  from .autonotebook import tqdm as notebook_tqdm\n"
          ]
        }
      ],
      "source": [
        "import torch # 파이토치\n",
        "import random\n",
        "import pandas as pd\n",
        "import numpy as np\n",
        "import os\n",
        "\n",
        "# 시드값 고정\n",
        "seed = 50\n",
        "os.environ['PYTHONHASHSEED'] = str(seed)\n",
        "random.seed(seed)\n",
        "np.random.seed(seed)\n",
        "torch.manual_seed(seed)\n",
        "torch.cuda.manual_seed(seed)\n",
        "torch.cuda.manual_seed_all(seed)\n",
        "torch.backends.cudnn.deterministic = True\n",
        "torch.backends.cudnn.benchmark = False\n",
        "torch.backends.cudnn.enabled = False\n",
        "\n",
        "import torch\n",
        "import torch.nn as nn\n",
        "import torch.nn.functional as F\n",
        "import torch.optim as optim\n",
        "from torch.utils.data import Dataset, DataLoader\n",
        "import albumentations as A\n",
        "from albumentations.pytorch import ToTensorV2\n",
        "from tqdm.auto import tqdm\n",
        "from sklearn.metrics import f1_score\n",
        "from sklearn.model_selection import train_test_split\n",
        "import timm"
      ]
    },
    {
      "cell_type": "code",
      "execution_count": 2,
      "metadata": {
        "colab": {
          "base_uri": "https://localhost:8080/"
        },
        "id": "zltjOtJz6-6L",
        "outputId": "0a7a4571-b0c2-403e-87ed-fe9914cc847b"
      },
      "outputs": [
        {
          "data": {
            "text/plain": [
              "device(type='cuda')"
            ]
          },
          "execution_count": 2,
          "metadata": {},
          "output_type": "execute_result"
        }
      ],
      "source": [
        "device = torch.device('cuda' if torch.cuda.is_available() else 'cpu')\n",
        "device"
      ]
    },
    {
      "cell_type": "code",
      "execution_count": 4,
      "metadata": {
        "id": "nD_4fbvu7Hhg"
      },
      "outputs": [],
      "source": [
        "raw_data = pd.read_csv(\"./dataset/sign_mnist_train.csv\")\n",
        "test_data = pd.read_csv(\"./dataset/sign_mnist_test.csv\")\n",
        "# raw_data = pd.read_csv(\"./drive/MyDrive/Colab Notebooks/classification/data/sign_mnist_train.csv\")"
      ]
    },
    {
      "cell_type": "code",
      "execution_count": 5,
      "metadata": {
        "colab": {
          "base_uri": "https://localhost:8080/"
        },
        "id": "2fBAZ60U7JoH",
        "outputId": "515612e1-02b0-476a-9423-4c9249d3935e"
      },
      "outputs": [
        {
          "name": "stdout",
          "output_type": "stream",
          "text": [
            "1600\n",
            "400\n"
          ]
        }
      ],
      "source": [
        "raw_data = raw_data[:2000]\n",
        "train_data, val_data = train_test_split(raw_data,test_size=0.2, random_state=50)\n",
        "train_data = train_data.reset_index(drop=True)\n",
        "val_data = val_data.reset_index(drop=True)\n",
        "print(len(train_data))\n",
        "print(len(val_data))"
      ]
    },
    {
      "cell_type": "code",
      "execution_count": 6,
      "metadata": {
        "colab": {
          "base_uri": "https://localhost:8080/",
          "height": 255
        },
        "id": "B7nJaLj195oy",
        "outputId": "615f389e-611d-4e8f-85c3-f1bd770290e5"
      },
      "outputs": [
        {
          "data": {
            "text/html": [
              "<div>\n",
              "<style scoped>\n",
              "    .dataframe tbody tr th:only-of-type {\n",
              "        vertical-align: middle;\n",
              "    }\n",
              "\n",
              "    .dataframe tbody tr th {\n",
              "        vertical-align: top;\n",
              "    }\n",
              "\n",
              "    .dataframe thead th {\n",
              "        text-align: right;\n",
              "    }\n",
              "</style>\n",
              "<table border=\"1\" class=\"dataframe\">\n",
              "  <thead>\n",
              "    <tr style=\"text-align: right;\">\n",
              "      <th></th>\n",
              "      <th>label</th>\n",
              "      <th>pixel1</th>\n",
              "      <th>pixel2</th>\n",
              "      <th>pixel3</th>\n",
              "      <th>pixel4</th>\n",
              "      <th>pixel5</th>\n",
              "      <th>pixel6</th>\n",
              "      <th>pixel7</th>\n",
              "      <th>pixel8</th>\n",
              "      <th>pixel9</th>\n",
              "      <th>...</th>\n",
              "      <th>pixel775</th>\n",
              "      <th>pixel776</th>\n",
              "      <th>pixel777</th>\n",
              "      <th>pixel778</th>\n",
              "      <th>pixel779</th>\n",
              "      <th>pixel780</th>\n",
              "      <th>pixel781</th>\n",
              "      <th>pixel782</th>\n",
              "      <th>pixel783</th>\n",
              "      <th>pixel784</th>\n",
              "    </tr>\n",
              "  </thead>\n",
              "  <tbody>\n",
              "    <tr>\n",
              "      <th>0</th>\n",
              "      <td>11</td>\n",
              "      <td>156</td>\n",
              "      <td>159</td>\n",
              "      <td>163</td>\n",
              "      <td>164</td>\n",
              "      <td>165</td>\n",
              "      <td>167</td>\n",
              "      <td>169</td>\n",
              "      <td>170</td>\n",
              "      <td>170</td>\n",
              "      <td>...</td>\n",
              "      <td>199</td>\n",
              "      <td>197</td>\n",
              "      <td>197</td>\n",
              "      <td>195</td>\n",
              "      <td>194</td>\n",
              "      <td>192</td>\n",
              "      <td>188</td>\n",
              "      <td>186</td>\n",
              "      <td>183</td>\n",
              "      <td>181</td>\n",
              "    </tr>\n",
              "    <tr>\n",
              "      <th>1</th>\n",
              "      <td>11</td>\n",
              "      <td>163</td>\n",
              "      <td>163</td>\n",
              "      <td>164</td>\n",
              "      <td>164</td>\n",
              "      <td>165</td>\n",
              "      <td>165</td>\n",
              "      <td>164</td>\n",
              "      <td>164</td>\n",
              "      <td>164</td>\n",
              "      <td>...</td>\n",
              "      <td>48</td>\n",
              "      <td>49</td>\n",
              "      <td>42</td>\n",
              "      <td>39</td>\n",
              "      <td>49</td>\n",
              "      <td>26</td>\n",
              "      <td>33</td>\n",
              "      <td>34</td>\n",
              "      <td>42</td>\n",
              "      <td>94</td>\n",
              "    </tr>\n",
              "    <tr>\n",
              "      <th>2</th>\n",
              "      <td>0</td>\n",
              "      <td>172</td>\n",
              "      <td>175</td>\n",
              "      <td>177</td>\n",
              "      <td>181</td>\n",
              "      <td>183</td>\n",
              "      <td>185</td>\n",
              "      <td>187</td>\n",
              "      <td>187</td>\n",
              "      <td>188</td>\n",
              "      <td>...</td>\n",
              "      <td>19</td>\n",
              "      <td>19</td>\n",
              "      <td>27</td>\n",
              "      <td>32</td>\n",
              "      <td>19</td>\n",
              "      <td>16</td>\n",
              "      <td>16</td>\n",
              "      <td>18</td>\n",
              "      <td>27</td>\n",
              "      <td>32</td>\n",
              "    </tr>\n",
              "    <tr>\n",
              "      <th>3</th>\n",
              "      <td>0</td>\n",
              "      <td>154</td>\n",
              "      <td>155</td>\n",
              "      <td>158</td>\n",
              "      <td>159</td>\n",
              "      <td>160</td>\n",
              "      <td>163</td>\n",
              "      <td>165</td>\n",
              "      <td>165</td>\n",
              "      <td>166</td>\n",
              "      <td>...</td>\n",
              "      <td>188</td>\n",
              "      <td>187</td>\n",
              "      <td>187</td>\n",
              "      <td>187</td>\n",
              "      <td>187</td>\n",
              "      <td>186</td>\n",
              "      <td>186</td>\n",
              "      <td>185</td>\n",
              "      <td>185</td>\n",
              "      <td>184</td>\n",
              "    </tr>\n",
              "    <tr>\n",
              "      <th>4</th>\n",
              "      <td>23</td>\n",
              "      <td>162</td>\n",
              "      <td>163</td>\n",
              "      <td>165</td>\n",
              "      <td>168</td>\n",
              "      <td>168</td>\n",
              "      <td>169</td>\n",
              "      <td>168</td>\n",
              "      <td>170</td>\n",
              "      <td>170</td>\n",
              "      <td>...</td>\n",
              "      <td>230</td>\n",
              "      <td>230</td>\n",
              "      <td>230</td>\n",
              "      <td>230</td>\n",
              "      <td>229</td>\n",
              "      <td>229</td>\n",
              "      <td>228</td>\n",
              "      <td>228</td>\n",
              "      <td>227</td>\n",
              "      <td>227</td>\n",
              "    </tr>\n",
              "  </tbody>\n",
              "</table>\n",
              "<p>5 rows × 785 columns</p>\n",
              "</div>"
            ],
            "text/plain": [
              "   label  pixel1  pixel2  pixel3  pixel4  pixel5  pixel6  pixel7  pixel8  \\\n",
              "0     11     156     159     163     164     165     167     169     170   \n",
              "1     11     163     163     164     164     165     165     164     164   \n",
              "2      0     172     175     177     181     183     185     187     187   \n",
              "3      0     154     155     158     159     160     163     165     165   \n",
              "4     23     162     163     165     168     168     169     168     170   \n",
              "\n",
              "   pixel9  ...  pixel775  pixel776  pixel777  pixel778  pixel779  pixel780  \\\n",
              "0     170  ...       199       197       197       195       194       192   \n",
              "1     164  ...        48        49        42        39        49        26   \n",
              "2     188  ...        19        19        27        32        19        16   \n",
              "3     166  ...       188       187       187       187       187       186   \n",
              "4     170  ...       230       230       230       230       229       229   \n",
              "\n",
              "   pixel781  pixel782  pixel783  pixel784  \n",
              "0       188       186       183       181  \n",
              "1        33        34        42        94  \n",
              "2        16        18        27        32  \n",
              "3       186       185       185       184  \n",
              "4       228       228       227       227  \n",
              "\n",
              "[5 rows x 785 columns]"
            ]
          },
          "execution_count": 6,
          "metadata": {},
          "output_type": "execute_result"
        }
      ],
      "source": [
        "train_data.head()"
      ]
    },
    {
      "cell_type": "code",
      "execution_count": 7,
      "metadata": {
        "id": "GpmQAZAd7m21"
      },
      "outputs": [],
      "source": [
        "transforms_for_train = A.Compose([\n",
        "                ])\n",
        "\n",
        "transforms_for_test = A.Compose([\n",
        "                ])"
      ]
    },
    {
      "cell_type": "code",
      "execution_count": 8,
      "metadata": {},
      "outputs": [],
      "source": [
        "class Sign(Dataset):\n",
        "    def __init__(self, data = None, is_train = False, transforms=None):\n",
        "        self.label_data = data['label']\n",
        "        self.pic_data = data.drop(labels = [\"label\"],axis = 1)\n",
        "        self.pic_data = self.pic_data.values.reshape(-1,1, 28,28)\n",
        "        self.pic_data = self.pic_data/255\n",
        "        self.pic_data = torch.from_numpy(self.pic_data).float()\n",
        "        self.pic_data = self.pic_data.expand(-1,3,-1,-1)\n",
        "        self.is_train = is_train\n",
        "        self.transforms = transforms\n",
        "\n",
        "    def __len__(self):\n",
        "        return len(self.label_data)\n",
        "\n",
        "    def __getitem__(self, item):\n",
        "        \n",
        "        labels = self.label_data[item]\n",
        "        images = self.pic_data[item]\n",
        "        images = images.numpy()\n",
        "\n",
        "        if self.is_train:\n",
        "            images = self.transforms(image = images)['image']\n",
        "        images = torch.from_numpy(images)\n",
        "\n",
        "        return images, labels"
      ]
    },
    {
      "cell_type": "code",
      "execution_count": 9,
      "metadata": {
        "id": "M3mM-60p7rei"
      },
      "outputs": [],
      "source": [
        "train_dataset = Sign(data=train_data, is_train=True, transforms=transforms_for_train)\n",
        "val_dataset = Sign(data=val_data, is_train=False)\n",
        "test_dataset = Sign(data=test_data, is_train=False)"
      ]
    },
    {
      "cell_type": "code",
      "execution_count": 10,
      "metadata": {
        "colab": {
          "base_uri": "https://localhost:8080/"
        },
        "id": "XKhqPg-x7u-c",
        "outputId": "3bc26ec6-3d95-411d-eafe-be1d29bc277c"
      },
      "outputs": [],
      "source": [
        "train_loader = DataLoader(\n",
        "    dataset=train_dataset,\n",
        "    batch_size=80,\n",
        "    shuffle=True,\n",
        "    num_workers=0,  # 로컬에서 작동한다면 4, 8 로 바꿔서 멀티프로세싱해도 됩니다\n",
        "    drop_last=True,\n",
        ")\n",
        "\n",
        "val_loader = DataLoader(\n",
        "    dataset=val_dataset,\n",
        "    batch_size=80,\n",
        "    shuffle=True,\n",
        "    num_workers=0,\n",
        "    drop_last=True,\n",
        ")\n",
        "\n",
        "test_loader = DataLoader(\n",
        "    dataset=test_dataset,\n",
        "    batch_size=80,\n",
        "    shuffle=True,\n",
        "    num_workers=0,\n",
        "    drop_last=True,\n",
        ")"
      ]
    },
    {
      "cell_type": "code",
      "execution_count": 11,
      "metadata": {
        "id": "CbvyLJxq7x9v"
      },
      "outputs": [],
      "source": [
        "NUM_EPOCHS = 50\n",
        "VAL_EVERY = 10\n",
        "SAVE_DIR = './Save/'"
      ]
    },
    {
      "cell_type": "code",
      "execution_count": 12,
      "metadata": {
        "id": "bDic-7__7z9z"
      },
      "outputs": [],
      "source": [
        "def save_model(model, file_name='best_model_base.pt'):\n",
        "    output_path = os.path.join(SAVE_DIR, file_name)\n",
        "    if not os.path.exists(SAVE_DIR):\n",
        "        os.makedirs(SAVE_DIR)\n",
        "    torch.save(model, output_path)\n",
        "\n",
        "def validation(epoch, model, data_loader, criterion):\n",
        "    print(f'Start validation #{epoch:2d}')\n",
        "    model.eval()\n",
        "    with torch.no_grad():\n",
        "        all_preds = []\n",
        "        all_labels = []\n",
        "        for step, (images, labels) in tqdm(enumerate(data_loader), total=len(data_loader)):\n",
        "            images, labels = images.cuda(), labels.cuda()\n",
        "            model = model.cuda()\n",
        "\n",
        "            outputs = model(images)\n",
        "            preds = torch.argmax(outputs, dim=1)\n",
        "            all_preds.extend(preds.cpu().numpy())\n",
        "            all_labels.extend(labels.cpu().numpy())\n",
        "        f1 = f1_score(all_labels, all_preds, average='micro')\n",
        "        print(f'F1 Score: {f1}')\n",
        "    return f1\n",
        "\n",
        "def train(model, data_loader, criterion, optimizer):\n",
        "    print(f'Start training..')\n",
        "    best_acc = 0\n",
        "\n",
        "    for epoch in range(NUM_EPOCHS):\n",
        "        model.train()\n",
        "        for step, (images, labels) in enumerate(tqdm(data_loader)):\n",
        "            images, labels = images.cuda(), labels.cuda()\n",
        "            model = model.cuda()\n",
        "\n",
        "            outputs = model(images)\n",
        "\n",
        "            loss = criterion(outputs, labels)\n",
        "            optimizer.zero_grad()\n",
        "            loss.backward()\n",
        "            optimizer.step()\n",
        "\n",
        "            # step 주기에 따라 loss를 출력.\n",
        "            if (step + 1) % 400 == 0:\n",
        "                print(\n",
        "                    f'Epoch [{epoch+1}/{NUM_EPOCHS}], '\n",
        "                    f'Step [{step+1}/{len(train_loader)}], '\n",
        "                    f'Loss: {round(loss.item(),4)}'\n",
        "                )\n",
        "        if (epoch + 1) % VAL_EVERY == 0:\n",
        "            acc = validation(epoch + 1, model, val_loader, criterion)\n",
        "            if best_acc < acc:\n",
        "                print(f\"Best performance at epoch: {epoch + 1}, {best_acc:.4f} -> {acc:.4f}\")\n",
        "                best_acc = acc\n",
        "                save_model(model)"
      ]
    },
    {
      "cell_type": "code",
      "execution_count": 13,
      "metadata": {
        "colab": {
          "base_uri": "https://localhost:8080/",
          "height": 655,
          "referenced_widgets": [
            "259057fc0a534c1eb42b295ffc0553e9",
            "f2b35d7532c746f5bf9ce07bced06341",
            "f16757c2cc1049b6b3e7119a095ae1d0",
            "242f70ebfdd7459481861df24a737b90",
            "a39da4cafb2548be8989d6972ed1d2dc",
            "3249071e17e94c04a2c3f16c9043f64b",
            "0fb9a219221643dbb8423f275a18da72",
            "d3f1083c82ef4bfb99c97270b52f8af0",
            "3674eafdb98740939b72b0e635a034ff",
            "955f3cdbc3da42069a6c07d251e523cd",
            "efeff6c575bf4ef79646a0a26b26c947"
          ]
        },
        "id": "Lw-DTNY576w3",
        "outputId": "aa5ffbe2-4969-4259-c73e-12bb81ec74db"
      },
      "outputs": [
        {
          "name": "stdout",
          "output_type": "stream",
          "text": [
            "Start training..\n"
          ]
        },
        {
          "name": "stderr",
          "output_type": "stream",
          "text": [
            "100%|██████████| 20/20 [00:06<00:00,  3.04it/s]\n",
            "100%|██████████| 20/20 [00:03<00:00,  5.57it/s]\n",
            "100%|██████████| 20/20 [00:03<00:00,  5.66it/s]\n",
            "100%|██████████| 20/20 [00:03<00:00,  5.48it/s]\n",
            "100%|██████████| 20/20 [00:03<00:00,  5.65it/s]\n",
            "100%|██████████| 20/20 [00:03<00:00,  5.68it/s]\n",
            "100%|██████████| 20/20 [00:03<00:00,  5.68it/s]\n",
            "100%|██████████| 20/20 [00:03<00:00,  5.78it/s]\n",
            "100%|██████████| 20/20 [00:03<00:00,  5.79it/s]\n",
            "100%|██████████| 20/20 [00:03<00:00,  5.78it/s]\n"
          ]
        },
        {
          "name": "stdout",
          "output_type": "stream",
          "text": [
            "Start validation #10\n"
          ]
        },
        {
          "name": "stderr",
          "output_type": "stream",
          "text": [
            "100%|██████████| 5/5 [00:00<00:00, 15.47it/s]\n"
          ]
        },
        {
          "name": "stdout",
          "output_type": "stream",
          "text": [
            "F1 Score: 0.06\n",
            "Best performance at epoch: 10, 0.0000 -> 0.0600\n"
          ]
        },
        {
          "name": "stderr",
          "output_type": "stream",
          "text": [
            "100%|██████████| 20/20 [00:03<00:00,  6.04it/s]\n",
            "100%|██████████| 20/20 [00:03<00:00,  5.93it/s]\n",
            "100%|██████████| 20/20 [00:03<00:00,  5.78it/s]\n",
            "100%|██████████| 20/20 [00:03<00:00,  5.79it/s]\n",
            "100%|██████████| 20/20 [00:03<00:00,  5.71it/s]\n",
            "100%|██████████| 20/20 [00:03<00:00,  5.96it/s]\n",
            "100%|██████████| 20/20 [00:03<00:00,  5.95it/s]\n",
            "100%|██████████| 20/20 [00:03<00:00,  5.97it/s]\n",
            "100%|██████████| 20/20 [00:03<00:00,  6.01it/s]\n",
            "100%|██████████| 20/20 [00:03<00:00,  5.85it/s]\n"
          ]
        },
        {
          "name": "stdout",
          "output_type": "stream",
          "text": [
            "Start validation #20\n"
          ]
        },
        {
          "name": "stderr",
          "output_type": "stream",
          "text": [
            "100%|██████████| 5/5 [00:00<00:00, 16.16it/s]\n"
          ]
        },
        {
          "name": "stdout",
          "output_type": "stream",
          "text": [
            "F1 Score: 0.07\n",
            "Best performance at epoch: 20, 0.0600 -> 0.0700\n"
          ]
        },
        {
          "name": "stderr",
          "output_type": "stream",
          "text": [
            "100%|██████████| 20/20 [00:03<00:00,  5.82it/s]\n",
            "100%|██████████| 20/20 [00:03<00:00,  5.84it/s]\n",
            "100%|██████████| 20/20 [00:03<00:00,  5.70it/s]\n",
            "100%|██████████| 20/20 [00:03<00:00,  5.67it/s]\n",
            "100%|██████████| 20/20 [00:03<00:00,  5.25it/s]\n",
            "100%|██████████| 20/20 [00:06<00:00,  3.04it/s]\n",
            "100%|██████████| 20/20 [00:06<00:00,  2.92it/s]\n",
            "100%|██████████| 20/20 [00:06<00:00,  2.94it/s]\n",
            "100%|██████████| 20/20 [00:06<00:00,  2.92it/s]\n",
            "100%|██████████| 20/20 [00:08<00:00,  2.42it/s]\n"
          ]
        },
        {
          "name": "stdout",
          "output_type": "stream",
          "text": [
            "Start validation #30\n"
          ]
        },
        {
          "name": "stderr",
          "output_type": "stream",
          "text": [
            "100%|██████████| 5/5 [00:00<00:00,  5.43it/s]\n"
          ]
        },
        {
          "name": "stdout",
          "output_type": "stream",
          "text": [
            "F1 Score: 0.12\n",
            "Best performance at epoch: 30, 0.0700 -> 0.1200\n"
          ]
        },
        {
          "name": "stderr",
          "output_type": "stream",
          "text": [
            "100%|██████████| 20/20 [00:09<00:00,  2.13it/s]\n",
            "100%|██████████| 20/20 [00:09<00:00,  2.04it/s]\n",
            "100%|██████████| 20/20 [00:09<00:00,  2.08it/s]\n",
            "100%|██████████| 20/20 [00:09<00:00,  2.01it/s]\n",
            "100%|██████████| 20/20 [00:09<00:00,  2.14it/s]\n",
            "100%|██████████| 20/20 [00:09<00:00,  2.08it/s]\n",
            "100%|██████████| 20/20 [00:09<00:00,  2.18it/s]\n",
            "100%|██████████| 20/20 [00:09<00:00,  2.03it/s]\n",
            "100%|██████████| 20/20 [00:09<00:00,  2.11it/s]\n",
            "100%|██████████| 20/20 [00:09<00:00,  2.03it/s]\n"
          ]
        },
        {
          "name": "stdout",
          "output_type": "stream",
          "text": [
            "Start validation #40\n"
          ]
        },
        {
          "name": "stderr",
          "output_type": "stream",
          "text": [
            "100%|██████████| 5/5 [00:00<00:00,  5.39it/s]\n"
          ]
        },
        {
          "name": "stdout",
          "output_type": "stream",
          "text": [
            "F1 Score: 0.1425\n",
            "Best performance at epoch: 40, 0.1200 -> 0.1425\n"
          ]
        },
        {
          "name": "stderr",
          "output_type": "stream",
          "text": [
            "100%|██████████| 20/20 [00:10<00:00,  2.00it/s]\n",
            "100%|██████████| 20/20 [00:09<00:00,  2.02it/s]\n",
            "100%|██████████| 20/20 [00:10<00:00,  1.98it/s]\n",
            "100%|██████████| 20/20 [00:10<00:00,  1.99it/s]\n",
            "100%|██████████| 20/20 [00:09<00:00,  2.00it/s]\n",
            "100%|██████████| 20/20 [00:09<00:00,  2.04it/s]\n",
            "100%|██████████| 20/20 [00:10<00:00,  1.96it/s]\n",
            "100%|██████████| 20/20 [00:09<00:00,  2.04it/s]\n",
            "100%|██████████| 20/20 [00:10<00:00,  1.95it/s]\n",
            "100%|██████████| 20/20 [00:09<00:00,  2.06it/s]\n"
          ]
        },
        {
          "name": "stdout",
          "output_type": "stream",
          "text": [
            "Start validation #50\n"
          ]
        },
        {
          "name": "stderr",
          "output_type": "stream",
          "text": [
            "100%|██████████| 5/5 [00:00<00:00,  6.06it/s]\n"
          ]
        },
        {
          "name": "stdout",
          "output_type": "stream",
          "text": [
            "F1 Score: 0.1525\n",
            "Best performance at epoch: 50, 0.1425 -> 0.1525\n"
          ]
        }
      ],
      "source": [
        "model = timm.create_model('resnet50', pretrained=True, num_classes=26)\n",
        "\n",
        "criterion = nn.CrossEntropyLoss()\n",
        "\n",
        "LR = 1e-3\n",
        "optimizer = optim.SGD(params=model.parameters(), lr=LR)\n",
        "\n",
        "train(model, train_loader, criterion, optimizer)"
      ]
    },
    {
      "cell_type": "code",
      "execution_count": 14,
      "metadata": {},
      "outputs": [],
      "source": [
        "def test(model, test_loader, criterion):\n",
        "    model_path = './Save/best_model_base.pt'\n",
        "    model = torch.load(model_path)\n",
        "    model.cuda()\n",
        "\n",
        "    print(f'Start inference')\n",
        "    model.eval()\n",
        "\n",
        "    all_preds = []\n",
        "    all_labels =[]\n",
        "\n",
        "    with torch.no_grad():\n",
        "        for images, labels in tqdm(test_loader):\n",
        "            images, labels = images.cuda(), labels.cuda()\n",
        "            outputs = model(images)\n",
        "            preds = torch.argmax(outputs, dim=1)\n",
        "            all_preds.extend(preds.cpu().numpy())\n",
        "            all_labels.extend(labels.cpu().numpy())\n",
        "        count = sum(1 for pred, label in zip(preds, labels) if pred==label)\n",
        "\n",
        "    acc = count/len(preds)\n",
        "    f1 = f1_score(all_preds, all_labels, average='micro')\n",
        "    return acc, f1\n"
      ]
    },
    {
      "cell_type": "code",
      "execution_count": 15,
      "metadata": {},
      "outputs": [
        {
          "name": "stdout",
          "output_type": "stream",
          "text": [
            "Start inference\n"
          ]
        },
        {
          "name": "stderr",
          "output_type": "stream",
          "text": [
            "100%|██████████| 89/89 [00:15<00:00,  5.90it/s]\n"
          ]
        },
        {
          "name": "stdout",
          "output_type": "stream",
          "text": [
            "acc : 0.0750\n",
            "f1 : 0.1022\n"
          ]
        }
      ],
      "source": [
        "criterion = nn.CrossEntropyLoss()\n",
        "acc, f1 = test(model, test_loader, criterion)\n",
        "\n",
        "print(f'acc : {acc:.4f}')\n",
        "print(f'f1 : {f1:.4f}')"
      ]
    },
    {
      "cell_type": "code",
      "execution_count": null,
      "metadata": {},
      "outputs": [],
      "source": []
    }
  ],
  "metadata": {
    "accelerator": "GPU",
    "colab": {
      "gpuType": "T4",
      "provenance": []
    },
    "kernelspec": {
      "display_name": "Python 3",
      "name": "python3"
    },
    "language_info": {
      "codemirror_mode": {
        "name": "ipython",
        "version": 3
      },
      "file_extension": ".py",
      "mimetype": "text/x-python",
      "name": "python",
      "nbconvert_exporter": "python",
      "pygments_lexer": "ipython3",
      "version": "3.11.8"
    },
    "widgets": {
      "application/vnd.jupyter.widget-state+json": {
        "0fb9a219221643dbb8423f275a18da72": {
          "model_module": "@jupyter-widgets/controls",
          "model_module_version": "1.5.0",
          "model_name": "DescriptionStyleModel",
          "state": {
            "_model_module": "@jupyter-widgets/controls",
            "_model_module_version": "1.5.0",
            "_model_name": "DescriptionStyleModel",
            "_view_count": null,
            "_view_module": "@jupyter-widgets/base",
            "_view_module_version": "1.2.0",
            "_view_name": "StyleView",
            "description_width": ""
          }
        },
        "242f70ebfdd7459481861df24a737b90": {
          "model_module": "@jupyter-widgets/controls",
          "model_module_version": "1.5.0",
          "model_name": "HTMLModel",
          "state": {
            "_dom_classes": [],
            "_model_module": "@jupyter-widgets/controls",
            "_model_module_version": "1.5.0",
            "_model_name": "HTMLModel",
            "_view_count": null,
            "_view_module": "@jupyter-widgets/controls",
            "_view_module_version": "1.5.0",
            "_view_name": "HTMLView",
            "description": "",
            "description_tooltip": null,
            "layout": "IPY_MODEL_955f3cdbc3da42069a6c07d251e523cd",
            "placeholder": "​",
            "style": "IPY_MODEL_efeff6c575bf4ef79646a0a26b26c947",
            "value": " 0/10 [00:00&lt;?, ?it/s]"
          }
        },
        "259057fc0a534c1eb42b295ffc0553e9": {
          "model_module": "@jupyter-widgets/controls",
          "model_module_version": "1.5.0",
          "model_name": "HBoxModel",
          "state": {
            "_dom_classes": [],
            "_model_module": "@jupyter-widgets/controls",
            "_model_module_version": "1.5.0",
            "_model_name": "HBoxModel",
            "_view_count": null,
            "_view_module": "@jupyter-widgets/controls",
            "_view_module_version": "1.5.0",
            "_view_name": "HBoxView",
            "box_style": "",
            "children": [
              "IPY_MODEL_f2b35d7532c746f5bf9ce07bced06341",
              "IPY_MODEL_f16757c2cc1049b6b3e7119a095ae1d0",
              "IPY_MODEL_242f70ebfdd7459481861df24a737b90"
            ],
            "layout": "IPY_MODEL_a39da4cafb2548be8989d6972ed1d2dc"
          }
        },
        "3249071e17e94c04a2c3f16c9043f64b": {
          "model_module": "@jupyter-widgets/base",
          "model_module_version": "1.2.0",
          "model_name": "LayoutModel",
          "state": {
            "_model_module": "@jupyter-widgets/base",
            "_model_module_version": "1.2.0",
            "_model_name": "LayoutModel",
            "_view_count": null,
            "_view_module": "@jupyter-widgets/base",
            "_view_module_version": "1.2.0",
            "_view_name": "LayoutView",
            "align_content": null,
            "align_items": null,
            "align_self": null,
            "border": null,
            "bottom": null,
            "display": null,
            "flex": null,
            "flex_flow": null,
            "grid_area": null,
            "grid_auto_columns": null,
            "grid_auto_flow": null,
            "grid_auto_rows": null,
            "grid_column": null,
            "grid_gap": null,
            "grid_row": null,
            "grid_template_areas": null,
            "grid_template_columns": null,
            "grid_template_rows": null,
            "height": null,
            "justify_content": null,
            "justify_items": null,
            "left": null,
            "margin": null,
            "max_height": null,
            "max_width": null,
            "min_height": null,
            "min_width": null,
            "object_fit": null,
            "object_position": null,
            "order": null,
            "overflow": null,
            "overflow_x": null,
            "overflow_y": null,
            "padding": null,
            "right": null,
            "top": null,
            "visibility": null,
            "width": null
          }
        },
        "3674eafdb98740939b72b0e635a034ff": {
          "model_module": "@jupyter-widgets/controls",
          "model_module_version": "1.5.0",
          "model_name": "ProgressStyleModel",
          "state": {
            "_model_module": "@jupyter-widgets/controls",
            "_model_module_version": "1.5.0",
            "_model_name": "ProgressStyleModel",
            "_view_count": null,
            "_view_module": "@jupyter-widgets/base",
            "_view_module_version": "1.2.0",
            "_view_name": "StyleView",
            "bar_color": null,
            "description_width": ""
          }
        },
        "955f3cdbc3da42069a6c07d251e523cd": {
          "model_module": "@jupyter-widgets/base",
          "model_module_version": "1.2.0",
          "model_name": "LayoutModel",
          "state": {
            "_model_module": "@jupyter-widgets/base",
            "_model_module_version": "1.2.0",
            "_model_name": "LayoutModel",
            "_view_count": null,
            "_view_module": "@jupyter-widgets/base",
            "_view_module_version": "1.2.0",
            "_view_name": "LayoutView",
            "align_content": null,
            "align_items": null,
            "align_self": null,
            "border": null,
            "bottom": null,
            "display": null,
            "flex": null,
            "flex_flow": null,
            "grid_area": null,
            "grid_auto_columns": null,
            "grid_auto_flow": null,
            "grid_auto_rows": null,
            "grid_column": null,
            "grid_gap": null,
            "grid_row": null,
            "grid_template_areas": null,
            "grid_template_columns": null,
            "grid_template_rows": null,
            "height": null,
            "justify_content": null,
            "justify_items": null,
            "left": null,
            "margin": null,
            "max_height": null,
            "max_width": null,
            "min_height": null,
            "min_width": null,
            "object_fit": null,
            "object_position": null,
            "order": null,
            "overflow": null,
            "overflow_x": null,
            "overflow_y": null,
            "padding": null,
            "right": null,
            "top": null,
            "visibility": null,
            "width": null
          }
        },
        "a39da4cafb2548be8989d6972ed1d2dc": {
          "model_module": "@jupyter-widgets/base",
          "model_module_version": "1.2.0",
          "model_name": "LayoutModel",
          "state": {
            "_model_module": "@jupyter-widgets/base",
            "_model_module_version": "1.2.0",
            "_model_name": "LayoutModel",
            "_view_count": null,
            "_view_module": "@jupyter-widgets/base",
            "_view_module_version": "1.2.0",
            "_view_name": "LayoutView",
            "align_content": null,
            "align_items": null,
            "align_self": null,
            "border": null,
            "bottom": null,
            "display": null,
            "flex": null,
            "flex_flow": null,
            "grid_area": null,
            "grid_auto_columns": null,
            "grid_auto_flow": null,
            "grid_auto_rows": null,
            "grid_column": null,
            "grid_gap": null,
            "grid_row": null,
            "grid_template_areas": null,
            "grid_template_columns": null,
            "grid_template_rows": null,
            "height": null,
            "justify_content": null,
            "justify_items": null,
            "left": null,
            "margin": null,
            "max_height": null,
            "max_width": null,
            "min_height": null,
            "min_width": null,
            "object_fit": null,
            "object_position": null,
            "order": null,
            "overflow": null,
            "overflow_x": null,
            "overflow_y": null,
            "padding": null,
            "right": null,
            "top": null,
            "visibility": null,
            "width": null
          }
        },
        "d3f1083c82ef4bfb99c97270b52f8af0": {
          "model_module": "@jupyter-widgets/base",
          "model_module_version": "1.2.0",
          "model_name": "LayoutModel",
          "state": {
            "_model_module": "@jupyter-widgets/base",
            "_model_module_version": "1.2.0",
            "_model_name": "LayoutModel",
            "_view_count": null,
            "_view_module": "@jupyter-widgets/base",
            "_view_module_version": "1.2.0",
            "_view_name": "LayoutView",
            "align_content": null,
            "align_items": null,
            "align_self": null,
            "border": null,
            "bottom": null,
            "display": null,
            "flex": null,
            "flex_flow": null,
            "grid_area": null,
            "grid_auto_columns": null,
            "grid_auto_flow": null,
            "grid_auto_rows": null,
            "grid_column": null,
            "grid_gap": null,
            "grid_row": null,
            "grid_template_areas": null,
            "grid_template_columns": null,
            "grid_template_rows": null,
            "height": null,
            "justify_content": null,
            "justify_items": null,
            "left": null,
            "margin": null,
            "max_height": null,
            "max_width": null,
            "min_height": null,
            "min_width": null,
            "object_fit": null,
            "object_position": null,
            "order": null,
            "overflow": null,
            "overflow_x": null,
            "overflow_y": null,
            "padding": null,
            "right": null,
            "top": null,
            "visibility": null,
            "width": null
          }
        },
        "efeff6c575bf4ef79646a0a26b26c947": {
          "model_module": "@jupyter-widgets/controls",
          "model_module_version": "1.5.0",
          "model_name": "DescriptionStyleModel",
          "state": {
            "_model_module": "@jupyter-widgets/controls",
            "_model_module_version": "1.5.0",
            "_model_name": "DescriptionStyleModel",
            "_view_count": null,
            "_view_module": "@jupyter-widgets/base",
            "_view_module_version": "1.2.0",
            "_view_name": "StyleView",
            "description_width": ""
          }
        },
        "f16757c2cc1049b6b3e7119a095ae1d0": {
          "model_module": "@jupyter-widgets/controls",
          "model_module_version": "1.5.0",
          "model_name": "FloatProgressModel",
          "state": {
            "_dom_classes": [],
            "_model_module": "@jupyter-widgets/controls",
            "_model_module_version": "1.5.0",
            "_model_name": "FloatProgressModel",
            "_view_count": null,
            "_view_module": "@jupyter-widgets/controls",
            "_view_module_version": "1.5.0",
            "_view_name": "ProgressView",
            "bar_style": "danger",
            "description": "",
            "description_tooltip": null,
            "layout": "IPY_MODEL_d3f1083c82ef4bfb99c97270b52f8af0",
            "max": 10,
            "min": 0,
            "orientation": "horizontal",
            "style": "IPY_MODEL_3674eafdb98740939b72b0e635a034ff",
            "value": 0
          }
        },
        "f2b35d7532c746f5bf9ce07bced06341": {
          "model_module": "@jupyter-widgets/controls",
          "model_module_version": "1.5.0",
          "model_name": "HTMLModel",
          "state": {
            "_dom_classes": [],
            "_model_module": "@jupyter-widgets/controls",
            "_model_module_version": "1.5.0",
            "_model_name": "HTMLModel",
            "_view_count": null,
            "_view_module": "@jupyter-widgets/controls",
            "_view_module_version": "1.5.0",
            "_view_name": "HTMLView",
            "description": "",
            "description_tooltip": null,
            "layout": "IPY_MODEL_3249071e17e94c04a2c3f16c9043f64b",
            "placeholder": "​",
            "style": "IPY_MODEL_0fb9a219221643dbb8423f275a18da72",
            "value": "  0%"
          }
        }
      }
    }
  },
  "nbformat": 4,
  "nbformat_minor": 0
}
